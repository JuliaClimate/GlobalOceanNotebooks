{
 "cells": [
  {
   "cell_type": "markdown",
   "metadata": {},
   "source": [
    "# `NCTiles.jl` : Create Files, Embed Meta Data\n",
    "\n",
    "[NCTiles.jl](https://gaelforget.github.io/NCTiles.jl/dev/) creates [NetCDF](https://en.wikipedia.org/wiki/NetCDF) files that follow the [CF Metadata Conventions](http://cfconventions.org). It can be used either (1) in stand-alone mode or (2) in combination with [MeshArrays.jl](https://juliaclimate.github.io/MeshArrays.jl/dev/). The examples below include:\n",
    "\n",
    "1. Writing mapped model output, on a regular `lat-lon` grid, to a single `NetCDF` file\n",
    "  - 2D example\n",
    "  - 3D example\n",
    "2. Writing tiled model output, on `C-grid` subdomains, to a collection of `NetCDF` files\n",
    "  - 2D surface example\n",
    "  - 3D temperature example\n",
    "  - 3D staggered vector example"
   ]
  },
  {
   "cell_type": "markdown",
   "metadata": {},
   "source": [
    "### Packages & Helper Functions"
   ]
  },
  {
   "cell_type": "code",
   "execution_count": 1,
   "metadata": {},
   "outputs": [
    {
     "name": "stderr",
     "output_type": "stream",
     "text": [
      "┌ Info: Precompiling NCTiles [4c1fdd90-559f-11e9-1abf-07ceafc4ffc0]\n",
      "└ @ Base loading.jl:1317\n"
     ]
    }
   ],
   "source": [
    "#import Pkg; Pkg.add(\"NCTiles\")\n",
    "\n",
    "using NCTiles\n",
    "include(\"helper_functions.jl\");"
   ]
  },
  {
   "cell_type": "markdown",
   "metadata": {},
   "source": [
    "### File Paths & I/O Back-End\n",
    "\n",
    "_These will be used throughout the notebook_"
   ]
  },
  {
   "cell_type": "code",
   "execution_count": 2,
   "metadata": {},
   "outputs": [
    {
     "data": {
      "text/plain": [
       "NCDatasets"
      ]
     },
     "execution_count": 2,
     "metadata": {},
     "output_type": "execute_result"
    }
   ],
   "source": [
    "# File Paths\n",
    "inputs = \"../inputs/nctiles-testcases/\"\n",
    "get_testcases_if_needed(inputs)\n",
    "\n",
    "outputs = \"../outputs/nctiles-newfiles/\"\n",
    "if ~ispath(outputs); mkpath(outputs); end\n",
    "\n",
    "# I/O Back-End\n",
    "nc=NCTiles.NCDatasets"
   ]
  },
  {
   "cell_type": "markdown",
   "metadata": {},
   "source": [
    "## Interpolated Data Examples\n",
    "\n",
    "This example uses 2D and 3D model output that has been interpolated to a rectangular half-degree grid. It reads the data from binary files, adds meta data, and then writes it all to a single `NetCDF` file per model variable."
   ]
  },
  {
   "cell_type": "code",
   "execution_count": 3,
   "metadata": {},
   "outputs": [],
   "source": [
    "writedir = joinpath(outputs,\"interp\") #output files path\n",
    "if ~ispath(writedir); mkpath(writedir); end"
   ]
  },
  {
   "cell_type": "markdown",
   "metadata": {},
   "source": [
    "### 2D example"
   ]
  },
  {
   "cell_type": "markdown",
   "metadata": {},
   "source": [
    "Choose variable to process + specify file set name and precision"
   ]
  },
  {
   "cell_type": "code",
   "execution_count": 4,
   "metadata": {
    "lines_to_next_cell": 2
   },
   "outputs": [
    {
     "data": {
      "text/plain": [
       "OrderedCollections.OrderedDict{String, Any} with 7 entries:\n",
       "  \"diagNum\" => 23\n",
       "  \"fldname\" => \"ETAN\"\n",
       "  \"levs\"    => 1\n",
       "  \"mate\"    => \"\"\n",
       "  \"code\"    => \"SM      M1\"\n",
       "  \"units\"   => \"m\"\n",
       "  \"title\"   => \"Surface Height Anomaly\""
      ]
     },
     "execution_count": 4,
     "metadata": {},
     "output_type": "execute_result"
    }
   ],
   "source": [
    "nam = \"ETAN\"\n",
    "set = \"state_2d_set1\"\n",
    "prc = Float32\n",
    "\n",
    "# Get meta data for the chosen variable. Whithin `field` this defines:\n",
    "#\n",
    "# - a `NCvar` struct that sets up the subsequent `write` operation & incl. a `BinData` struct.\n",
    "# - a `BinData` struct that contains the file names, precision, and array size.\n",
    "\n",
    "    pth=input_file_paths(inputs)\n",
    "    flddatadir = joinpath(pth[\"interp\"],nam)\n",
    "    fnames = joinpath.(Ref(flddatadir),filter(x -> occursin(\".data\",x), readdir(flddatadir)))\n",
    "    diaginfo = read_available_diagnostics(nam, filename=pth[\"diaglist\"])"
   ]
  },
  {
   "cell_type": "code",
   "execution_count": 5,
   "metadata": {},
   "outputs": [],
   "source": [
    "(field,savename,readme)=prep_nctiles_interp(inputs,set,nam,prc);"
   ]
  },
  {
   "cell_type": "markdown",
   "metadata": {},
   "source": [
    "Create the NetCDF file and write data to it."
   ]
  },
  {
   "cell_type": "code",
   "execution_count": 6,
   "metadata": {},
   "outputs": [],
   "source": [
    "write(field,savename,README=readme);"
   ]
  },
  {
   "cell_type": "markdown",
   "metadata": {},
   "source": [
    "### 3D example"
   ]
  },
  {
   "cell_type": "code",
   "execution_count": 7,
   "metadata": {},
   "outputs": [],
   "source": [
    "(field,savename,readme)=prep_nctiles_interp(inputs,\"WVELMASS\",\"WVELMASS\",Float32);\n",
    "write(field,savename,README=readme);"
   ]
  },
  {
   "cell_type": "markdown",
   "metadata": {},
   "source": [
    "## Tiled Data Examples\n",
    "\n",
    "This example reads in global variables defined over a collection of subdomain arrays ( _tiles_ ) using `MeshArrays.jl`, and writes them to a collection of `NetCDF` files ( _nctiles_ ) using `NCTiles.jl`.\n",
    "\n",
    "### 2D & 3D examples"
   ]
  },
  {
   "cell_type": "code",
   "execution_count": 8,
   "metadata": {},
   "outputs": [],
   "source": [
    "#output folder name\n",
    "writedir = joinpath(outputs,\"tiled\")\n",
    "~ispath(writedir) ? mkpath(writedir) : nothing\n",
    "\n",
    "#2D example\n",
    "(flds,savename,readme)=prep_nctiles_native(inputs,\"state_2d_set1\",\"ETAN\",Float32)\n",
    "write(flds,savename,README=readme);\n",
    "\n",
    "#3D example\n",
    "(flds,savename,readme)=prep_nctiles_native(inputs,\"state_3d_set1\",\"THETA\",Float32);\n",
    "write(flds,savename,README=readme);"
   ]
  },
  {
   "cell_type": "markdown",
   "metadata": {},
   "source": [
    "### 3D vector example\n",
    "\n",
    "Here we process the three components of a vector field called `UVELMASS`, `VVELMASS` and `WVELMASS`. Note: on a `C-grid` these components are staggered in space."
   ]
  },
  {
   "cell_type": "code",
   "execution_count": 9,
   "metadata": {
    "lines_to_next_cell": 0
   },
   "outputs": [],
   "source": [
    "(flds,savename,readme)=prep_nctiles_native(inputs,\"trsp_3d_set1\",\"UVELMASS\",Float32);\n",
    "write(flds,savename,README=readme);\n",
    "\n",
    "(flds,savename,readme)=prep_nctiles_native(inputs,\"trsp_3d_set1\",\"VVELMASS\",Float32);\n",
    "write(flds,savename,README=readme);\n",
    "\n",
    "(flds,savename,readme)=prep_nctiles_native(inputs,\"trsp_3d_set1\",\"WVELMASS\",Float32);\n",
    "write(flds,savename,README=readme);"
   ]
  },
  {
   "cell_type": "code",
   "execution_count": null,
   "metadata": {},
   "outputs": [],
   "source": []
  }
 ],
 "metadata": {
  "@webio": {
   "lastCommId": null,
   "lastKernelId": null
  },
  "jupytext": {
   "encoding": "# -*- coding: utf-8 -*-",
   "formats": "ipynb,jl:light"
  },
  "kernelspec": {
   "display_name": "Julia 1.6.0",
   "language": "julia",
   "name": "julia-1.6"
  },
  "language_info": {
   "file_extension": ".jl",
   "mimetype": "application/julia",
   "name": "julia",
   "version": "1.6.0"
  },
  "toc": {
   "base_numbering": 1,
   "nav_menu": {},
   "number_sections": true,
   "sideBar": true,
   "skip_h1_title": false,
   "title_cell": "Table of Contents",
   "title_sidebar": "Contents",
   "toc_cell": false,
   "toc_position": {},
   "toc_section_display": true,
   "toc_window_display": false
  }
 },
 "nbformat": 4,
 "nbformat_minor": 4
}
