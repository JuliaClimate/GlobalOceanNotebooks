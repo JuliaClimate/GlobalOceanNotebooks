{
 "cells": [
  {
   "cell_type": "markdown",
   "metadata": {},
   "source": [
    "# `NCTiles.jl` Creates Files With Meta Data\n",
    "\n",
    "[NCTiles.jl](https://gaelforget.github.io/NCTiles.jl/dev/) creates [NetCDF](https://en.wikipedia.org/wiki/NetCDF) files that follow the [CF Metadata Conventions](http://cfconventions.org). It can be used either (1) in stand-alone mode or (2) in combination with [MeshArrays.jl](https://juliaclimate.github.io/MeshArrays.jl/dev/). The examples below include:\n",
    "\n",
    "1. Writing mapped model output, on a regular `lat-lon` grid, to a single `NetCDF` file\n",
    "  - 2D example\n",
    "  - 3D example\n",
    "2. Writing tiled model output, on `C-grid` subdomains, to a collection of `NetCDF` files\n",
    "  - 2D surface example\n",
    "  - 3D temperature example\n",
    "  - 3D staggered vector example"
   ]
  },
  {
   "cell_type": "markdown",
   "metadata": {},
   "source": [
    "### Packages & Helper Functions\n",
    "\n",
    "_These will be used throughout the notebook_"
   ]
  },
  {
   "cell_type": "code",
   "execution_count": 1,
   "metadata": {},
   "outputs": [],
   "source": [
    "if false\n",
    "    using Pkg\n",
    "    Pkg.add(PackageSpec(name=\"NCTiles\", rev=\"master\"))\n",
    "    Pkg.add(PackageSpec(name=\"MITgcmTools\", rev=\"master\"))\n",
    "end\n",
    "\n",
    "using NCTiles\n",
    "include(\"helper_functions.jl\");"
   ]
  },
  {
   "cell_type": "markdown",
   "metadata": {},
   "source": [
    "### File Paths & I/O Back-End\n",
    "\n",
    "_These will be used throughout the notebook_"
   ]
  },
  {
   "cell_type": "code",
   "execution_count": 2,
   "metadata": {},
   "outputs": [
    {
     "data": {
      "text/plain": [
       "NCDatasets"
      ]
     },
     "execution_count": 2,
     "metadata": {},
     "output_type": "execute_result"
    }
   ],
   "source": [
    "# File Paths\n",
    "inputs = \"../inputs/nctiles-testcases/\"\n",
    "get_testcases_if_needed(inputs)\n",
    "pth=input_file_paths(inputs)\n",
    "\n",
    "outputs = \"../outputs/nctiles-newfiles/\"\n",
    "if ~ispath(outputs); mkpath(outputs); end\n",
    "\n",
    "# I/O Back-End\n",
    "nc=NCTiles.NCDatasets"
   ]
  },
  {
   "cell_type": "markdown",
   "metadata": {},
   "source": [
    "## Interpolated Data Examples\n",
    "\n",
    "\n",
    "This example uses 2D and 3D model output that has been interpolated to a rectangular half-degree grid. It reads the data from binary files, adds meta data, and then writes it all to a single `NetCDF` file per model variable. \n",
    "\n",
    "First, we need to define coordinate variables, array sizes, and meta data:"
   ]
  },
  {
   "cell_type": "code",
   "execution_count": 3,
   "metadata": {},
   "outputs": [
    {
     "data": {
      "text/plain": [
       "Dict{String,Any} with 9 entries:\n",
       "  \"lon_c\"  => NCvar(\"lon_c\", \"degrees_east\", (720,), -179.75:0.5:179.75, Dict(\"…\n",
       "  \"dep_l\"  => NCvar(\"dep_l\", \"m\", (50,), Float32[10.0, 20.0, 30.0, 40.0, 50.0, …\n",
       "  \"dep_c\"  => NCvar(\"dep_c\", \"m\", (50,), Float32[5.0, 15.0, 25.0, 35.0, 45.0, 5…\n",
       "  \"lat_c\"  => NCvar(\"lat_c\", \"degrees_north\", (360,), -89.75:0.5:89.75, Dict(\"l…\n",
       "  \"n1\"     => 720\n",
       "  \"readme\" => [\"Please replace this placeholder file with a descriptive\", \"para…\n",
       "  \"tim\"    => NCvar(\"tim\", \"days since 1992-01-01 0:0:0\", Inf, 1.5:3.0:7.5, Dic…\n",
       "  \"n2\"     => 360\n",
       "  \"n3\"     => 50"
      ]
     },
     "execution_count": 3,
     "metadata": {},
     "output_type": "execute_result"
    }
   ],
   "source": [
    "writedir = joinpath(outputs,\"interp\") #output files path\n",
    "if ~ispath(writedir); mkpath(writedir); end\n",
    "\n",
    "Γ = grid_etc_interp(pth) #dimensions, sizes, and meta data"
   ]
  },
  {
   "cell_type": "markdown",
   "metadata": {},
   "source": [
    "### 2D example"
   ]
  },
  {
   "cell_type": "markdown",
   "metadata": {},
   "source": [
    "Choose variable to process and get the corresponding list of input files"
   ]
  },
  {
   "cell_type": "code",
   "execution_count": 4,
   "metadata": {},
   "outputs": [
    {
     "data": {
      "text/plain": [
       "3-element Array{String,1}:\n",
       " \"../inputs/nctiles-testcases/diags_interp/ETAN/ETAN.0000000732.data\"\n",
       " \"../inputs/nctiles-testcases/diags_interp/ETAN/ETAN.0000001428.data\"\n",
       " \"../inputs/nctiles-testcases/diags_interp/ETAN/ETAN.0000002172.data\""
      ]
     },
     "execution_count": 4,
     "metadata": {},
     "output_type": "execute_result"
    }
   ],
   "source": [
    "prec = Float32\n",
    "dataset = \"state_2d_set1\"\n",
    "fldname = \"ETAN\"\n",
    "flddatadir = joinpath(pth[\"interp\"],fldname)\n",
    "fnames = joinpath.(Ref(flddatadir),filter(x -> occursin(\".data\",x), readdir(flddatadir)))"
   ]
  },
  {
   "cell_type": "markdown",
   "metadata": {},
   "source": [
    "Get meta data for the chosen variable"
   ]
  },
  {
   "cell_type": "code",
   "execution_count": 5,
   "metadata": {},
   "outputs": [
    {
     "data": {
      "text/plain": [
       "Dict{String,Any} with 7 entries:\n",
       "  \"mate\"    => \"\"\n",
       "  \"units\"   => \"m\"\n",
       "  \"diagNum\" => 23\n",
       "  \"fldname\" => \"ETAN\"\n",
       "  \"title\"   => \"Surface Height Anomaly\"\n",
       "  \"code\"    => \"SM      M1\"\n",
       "  \"levs\"    => 1"
      ]
     },
     "execution_count": 5,
     "metadata": {},
     "output_type": "execute_result"
    }
   ],
   "source": [
    "diaginfo = readAvailDiagnosticsLog(pth[\"diaglist\"],fldname)"
   ]
  },
  {
   "cell_type": "markdown",
   "metadata": {},
   "source": [
    "Define:\n",
    "\n",
    "- a `BinData` struct to contain the file names, precision, and array size.\n",
    "- a `NCvar` struct that sets up the subsequent `write` operation (incl. `BinData` struct."
   ]
  },
  {
   "cell_type": "code",
   "execution_count": 6,
   "metadata": {},
   "outputs": [
    {
     "data": {
      "text/plain": [
       "NCvar(\"ETAN\", \"m\", NCvar[NCvar(\"lon_c\", \"degrees_east\", (720,), -179.75:0.5:179.75, Dict(\"long_name\" => \"longitude\"), NCDatasets), NCvar(\"lat_c\", \"degrees_north\", (360,), -89.75:0.5:89.75, Dict(\"long_name\" => \"longitude\"), NCDatasets), NCvar(\"tim\", \"days since 1992-01-01 0:0:0\", Inf, 1.5:3.0:7.5, Dict(\"long_name\" => \"time\",\"standard_name\" => \"time\"), NCDatasets)], BinData([\"../inputs/nctiles-testcases/diags_interp/ETAN/ETAN.0000000732.data\", \"../inputs/nctiles-testcases/diags_interp/ETAN/ETAN.0000001428.data\", \"../inputs/nctiles-testcases/diags_interp/ETAN/ETAN.0000002172.data\"], Float32, (720, 360), 1), Dict(\"long_name\" => \"Surface Height Anomaly\"), NCDatasets)"
      ]
     },
     "execution_count": 6,
     "metadata": {},
     "output_type": "execute_result"
    }
   ],
   "source": [
    "flddata = BinData(fnames,prec,(Γ[\"n1\"],Γ[\"n2\"]))\n",
    "dims = [Γ[\"lon_c\"],Γ[\"lat_c\"],Γ[\"tim\"]]\n",
    "field = NCvar(fldname,diaginfo[\"units\"],dims,flddata,\n",
    "    Dict(\"long_name\" => diaginfo[\"title\"]),nc)"
   ]
  },
  {
   "cell_type": "markdown",
   "metadata": {},
   "source": [
    "Create the NetCDF file and write data to it."
   ]
  },
  {
   "cell_type": "code",
   "execution_count": 7,
   "metadata": {},
   "outputs": [],
   "source": [
    "# Create the NetCDF file and populate with dimension and field info\n",
    "ds,fldvar,dimlist = createfile(joinpath(writedir,fldname*\".nc\"),field,Γ[\"readme\"])\n",
    "\n",
    "# Add field and dimension data\n",
    "addData(fldvar,field)\n",
    "addDimData.(Ref(ds),field.dims)\n",
    "\n",
    "# Close the file\n",
    "close(ds)"
   ]
  },
  {
   "cell_type": "markdown",
   "metadata": {},
   "source": [
    "### 3D example"
   ]
  },
  {
   "cell_type": "code",
   "execution_count": 9,
   "metadata": {},
   "outputs": [],
   "source": [
    "# Get the filenames for our first dataset and other information about the field.\n",
    "dataset = \"WVELMASS\"\n",
    "fldname = \"WVELMASS\"\n",
    "flddatadir = joinpath(pth[\"interp\"],fldname)\n",
    "fnames = flddatadir*'/'.*filter(x -> occursin(\".data\",x), readdir(flddatadir))\n",
    "diaginfo = readAvailDiagnosticsLog(pth[\"diaglist\"],fldname)\n",
    "\n",
    "# Define the field for writing using an NCvar struct. BinData contains the filenames\n",
    "# where the data sits so it's only loaded when needed.\n",
    "flddata = BinData(fnames,prec,(Γ[\"n1\"],Γ[\"n2\"],Γ[\"n3\"]))\n",
    "dims = [Γ[\"lon_c\"],Γ[\"lat_c\"],Γ[\"dep_l\"],Γ[\"tim\"]]\n",
    "field = NCvar(fldname,diaginfo[\"units\"],dims,flddata,Dict(\"long_name\" => diaginfo[\"title\"]),nc)\n",
    "\n",
    "# Create the NetCDF file and populate with dimension and field info\n",
    "ds,fldvar,dimlist = createfile(joinpath(writedir,fldname*\".nc\"),field,Γ[\"readme\"])\n",
    "\n",
    "# Add field and dimension data\n",
    "addData(fldvar,field)\n",
    "addDimData.(Ref(ds),field.dims)\n",
    "\n",
    "# Close the file\n",
    "close(ds)"
   ]
  },
  {
   "cell_type": "markdown",
   "metadata": {},
   "source": [
    "## Tiled Data Examples\n",
    "\n",
    "This example reads in global variables defined over a collection of subdomain arrays (_tiles_) using `MeshArrays.jl`, and writes them to a collection of `NetCDF` files (_nctiles_) using `NCTiles.jl`.\n",
    "\n",
    "First, we need to define coordinate variables, array sizes, and meta data:"
   ]
  },
  {
   "cell_type": "code",
   "execution_count": 10,
   "metadata": {},
   "outputs": [],
   "source": [
    "writedir = joinpath(outputs,\"tiled\")\n",
    "~ispath(writedir) ? mkpath(writedir) : nothing\n",
    "\n",
    "Γ=grid_etc_native(pth);"
   ]
  },
  {
   "cell_type": "markdown",
   "metadata": {},
   "source": [
    "### 2D example"
   ]
  },
  {
   "cell_type": "markdown",
   "metadata": {},
   "source": [
    "Choose variable to process and get the corresponding list of input files"
   ]
  },
  {
   "cell_type": "code",
   "execution_count": 11,
   "metadata": {},
   "outputs": [],
   "source": [
    "prec = Float32\n",
    "dataset = \"state_2d_set1\"\n",
    "fldname = \"ETAN\"\n",
    "fnames = pth[\"native\"]*'/'.*filter(x -> (occursin(\".data\",x) && occursin(dataset,x)), readdir(pth[\"native\"]))\n",
    "savepath = joinpath(writedir,fldname)\n",
    "if ~ispath(savepath); mkpath(savepath); end\n",
    "savenamebase = joinpath.(Ref(savepath),fldname)\n",
    "diaginfo = readAvailDiagnosticsLog(pth[\"diaglist\"],fldname);"
   ]
  },
  {
   "cell_type": "code",
   "execution_count": 12,
   "metadata": {},
   "outputs": [
    {
     "data": {
      "text/plain": [
       "BinData([\"../inputs/nctiles-testcases/diags//state_2d_set1.0000000732.data\", \"../inputs/nctiles-testcases/diags//state_2d_set1.0000001428.data\", \"../inputs/nctiles-testcases/diags//state_2d_set1.0000002172.data\"], Float32, (90, 1170), 1)"
      ]
     },
     "execution_count": 12,
     "metadata": {},
     "output_type": "execute_result"
    }
   ],
   "source": [
    "flddata = BinData(fnames,prec,(Γ[\"n1\"],Γ[\"n2\"]))"
   ]
  },
  {
   "cell_type": "markdown",
   "metadata": {},
   "source": [
    "Prepare dictionary of `NCvar` structs and write to `NetCDF` files."
   ]
  },
  {
   "cell_type": "code",
   "execution_count": 13,
   "metadata": {},
   "outputs": [],
   "source": [
    "flddata = BinData(fnames,prec,(Γ[\"n1\"],Γ[\"n2\"]))\n",
    "tilfld = TileData(flddata,Γ[\"tilesize\"],Γ[\"mygrid\"])\n",
    "numtiles = Γ[\"numtiles\"]\n",
    "\n",
    "dims = [Γ[\"icvar\"],Γ[\"jcvar\"],Γ[\"tim\"]]\n",
    "coords = join(replace([dim.name for dim in dims],\"i_c\" => \"lon\", \"j_c\" => \"lat\"),\" \")\n",
    "flds = Dict([fldname => NCvar(fldname,diaginfo[\"units\"],dims,tilfld,Dict([\"long_name\" => diaginfo[\"title\"], \"coordinates\" => coords]),nc),\n",
    "            \"lon\" => Γ[\"loncvar\"],\n",
    "            \"lat\" => Γ[\"latcvar\"],\n",
    "            \"area\" => Γ[\"areacvar\"],\n",
    "            \"land\" => Γ[\"land2Dvar\"]\n",
    "])\n",
    "\n",
    "writeNetCDFtiles(flds,savenamebase,Γ[\"readme\"])"
   ]
  },
  {
   "cell_type": "markdown",
   "metadata": {},
   "source": [
    "### 3D example"
   ]
  },
  {
   "cell_type": "code",
   "execution_count": 14,
   "metadata": {},
   "outputs": [],
   "source": [
    "# Get the filenames for our first dataset and other information about the field.\n",
    "prec = Float32\n",
    "dataset = \"state_3d_set1\"\n",
    "fldname = \"THETA\"\n",
    "fnames = pth[\"native\"]*'/'.*filter(x -> (occursin(\".data\",x) && occursin(dataset,x)), readdir(pth[\"native\"]))\n",
    "savepath = joinpath(writedir,fldname)\n",
    "if ~ispath(savepath); mkpath(savepath); end\n",
    "savenamebase = joinpath.(Ref(savepath),fldname)\n",
    "diaginfo = readAvailDiagnosticsLog(pth[\"diaglist\"],fldname)\n",
    "\n",
    "# Fields to be written to the file are indicated with a dictionary of NCvar structs.\n",
    "flddata = BinData(fnames,prec,(Γ[\"n1\"],Γ[\"n2\"],Γ[\"n3\"]))\n",
    "dims = [Γ[\"icvar\"],Γ[\"jcvar\"],Γ[\"dep_c\"],Γ[\"tim\"]]\n",
    "tilfld = TileData(flddata,Γ[\"tilesize\"],Γ[\"mygrid\"])\n",
    "coords = join(replace([dim.name for dim in dims],\"i_c\" => \"lon\", \"j_c\" => \"lat\"),\" \")\n",
    "flds = Dict([fldname => NCvar(fldname,diaginfo[\"units\"],dims,tilfld,Dict([\"long_name\" => diaginfo[\"title\"], \"coordinates\" => coords]),nc),\n",
    "            \"lon\" => Γ[\"loncvar\"],\n",
    "            \"lat\" => Γ[\"latcvar\"],\n",
    "            \"area\" => Γ[\"areacvar\"],\n",
    "            \"land\" => Γ[\"land3Dvar\"],\n",
    "            \"thic\" => Γ[\"thiccvar\"]\n",
    "])\n",
    "\n",
    "# Write to NetCDF files\n",
    "writeNetCDFtiles(flds,savenamebase,Γ[\"readme\"])"
   ]
  },
  {
   "cell_type": "markdown",
   "metadata": {},
   "source": [
    "### 3D vector example\n",
    "\n",
    "Here we process the three staggered components of a vector field (`UVELMASS`, `VVELMASS` and `WVELMASS`). On a `C-grid` these components are staggered in space.\n",
    "\n",
    "First component : `UVELMASS`"
   ]
  },
  {
   "cell_type": "code",
   "execution_count": 15,
   "metadata": {},
   "outputs": [],
   "source": [
    "# Get the filenames for our first dataset and create BinData struct\n",
    "prec = Float32\n",
    "dataset = \"trsp_3d_set1\"\n",
    "fldname = \"UVELMASS\"\n",
    "fnames = pth[\"native\"]*'/'.*filter(x -> (occursin(\".data\",x) && occursin(dataset,x)), readdir(pth[\"native\"]))\n",
    "savepath = joinpath(writedir,fldname)\n",
    "if ~ispath(savepath); mkpath(savepath); end\n",
    "savenamebase = joinpath.(Ref(savepath),fldname)\n",
    "diaginfo = readAvailDiagnosticsLog(pth[\"diaglist\"],fldname)\n",
    "\n",
    "# Define field- BinData contains the filenames where the data sits so it's only loaded when needed\n",
    "flddata = BinData(fnames,prec,(Γ[\"n1\"],Γ[\"n2\"],Γ[\"n3\"]))\n",
    "dims = [Γ[\"iwvar\"],Γ[\"jwvar\"],Γ[\"dep_c\"],Γ[\"tim\"]]\n",
    "tilfld = TileData(flddata,Γ[\"tilesize\"],Γ[\"mygrid\"])\n",
    "coords = join(replace([dim.name for dim in dims],\"i_w\" => \"lon\", \"j_w\" => \"lat\"),\" \")\n",
    "flds = Dict([fldname => NCvar(fldname,diaginfo[\"units\"],dims,tilfld,Dict([\"long_name\" => diaginfo[\"title\"], \"coordinates\" => coords]),nc),\n",
    "            \"lon\" => Γ[\"lonwvar\"],\n",
    "            \"lat\" => Γ[\"latwvar\"],\n",
    "            \"area\" => Γ[\"areawvar\"],\n",
    "            \"land\" => Γ[\"landwvar\"],\n",
    "            \"thic\" => Γ[\"thiccvar\"]\n",
    "        ])\n",
    "\n",
    "writeNetCDFtiles(flds,savenamebase,Γ[\"readme\"])"
   ]
  },
  {
   "cell_type": "markdown",
   "metadata": {},
   "source": [
    "Second component : `VVELMASS`"
   ]
  },
  {
   "cell_type": "code",
   "execution_count": 16,
   "metadata": {},
   "outputs": [],
   "source": [
    "# Get the filenames for our first dataset and create BinData struct\n",
    "prec = Float32\n",
    "dataset = \"trsp_3d_set1\"\n",
    "fldname = \"VVELMASS\"\n",
    "fnames = pth[\"native\"]*'/'.*filter(x -> (occursin(\".data\",x) && occursin(dataset,x)), readdir(pth[\"native\"]))\n",
    "savepath = joinpath(writedir,fldname)\n",
    "if ~ispath(savepath); mkpath(savepath); end\n",
    "savenamebase = joinpath.(Ref(savepath),fldname)\n",
    "diaginfo = readAvailDiagnosticsLog(pth[\"diaglist\"],fldname)\n",
    "\n",
    "# Define field- BinData contains the filenames where the data sits so it's only loaded when needed\n",
    "flddata = BinData(fnames,prec,(Γ[\"n1\"],Γ[\"n2\"],Γ[\"n3\"]))\n",
    "dims = [Γ[\"isvar\"],Γ[\"jsvar\"],Γ[\"dep_c\"],Γ[\"tim\"]]\n",
    "tilfld = TileData(flddata,Γ[\"tilesize\"],Γ[\"mygrid\"])\n",
    "coords = join(replace([dim.name for dim in dims],\"i_s\" => \"lon\", \"j_s\" => \"lat\"),\" \")\n",
    "flds = Dict([fldname => NCvar(fldname,diaginfo[\"units\"],dims,tilfld,Dict([\"long_name\" => diaginfo[\"title\"], \"coordinates\" => coords]),nc),\n",
    "            \"lon\" => Γ[\"lonsvar\"],\n",
    "            \"lat\" => Γ[\"latsvar\"],\n",
    "            \"area\" => Γ[\"areasvar\"],\n",
    "            \"land\" => Γ[\"landsvar\"],\n",
    "            \"thic\" => Γ[\"thiccvar\"]\n",
    "])\n",
    "\n",
    "writeNetCDFtiles(flds,savenamebase,Γ[\"readme\"])"
   ]
  },
  {
   "cell_type": "markdown",
   "metadata": {},
   "source": [
    "Third component : `WVELMASS`"
   ]
  },
  {
   "cell_type": "code",
   "execution_count": 17,
   "metadata": {},
   "outputs": [],
   "source": [
    "# Get the filenames for our first dataset and create BinData struct\n",
    "prec = Float32\n",
    "dataset = \"trsp_3d_set1\"\n",
    "fldname = \"WVELMASS\"\n",
    "fnames = pth[\"native\"]*'/'.*filter(x -> (occursin(\".data\",x) && occursin(dataset,x)), readdir(pth[\"native\"]))\n",
    "savepath = joinpath(writedir,fldname)\n",
    "if ~ispath(savepath); mkpath(savepath); end\n",
    "savenamebase = joinpath.(Ref(savepath),fldname)\n",
    "diaginfo = readAvailDiagnosticsLog(pth[\"diaglist\"],fldname)\n",
    "\n",
    "# Define field- BinData contains the filenames where the data sits so it's only loaded when needed\n",
    "flddata = BinData(fnames,prec,(Γ[\"n1\"],Γ[\"n2\"],Γ[\"n3\"]))\n",
    "dims = [Γ[\"icvar\"],Γ[\"jcvar\"],Γ[\"dep_l\"],Γ[\"tim\"]]\n",
    "tilfld = TileData(flddata,Γ[\"tilesize\"],Γ[\"mygrid\"])\n",
    "coords = join(replace([dim.name for dim in dims],\"i_c\" => \"lon\", \"j_c\" => \"lat\"),\" \")\n",
    "flds = Dict([fldname => NCvar(fldname,diaginfo[\"units\"],dims,tilfld,Dict([\"long_name\" => diaginfo[\"title\"], \"coordinates\" => coords]),nc),\n",
    "            \"lon\" => Γ[\"loncvar\"],\n",
    "            \"lat\" => Γ[\"latcvar\"],\n",
    "            \"area\" => Γ[\"areacvar\"],\n",
    "            \"land\" => Γ[\"land3Dvar\"],\n",
    "            \"thic\" => Γ[\"thiclvar\"]\n",
    "])\n",
    "\n",
    "writeNetCDFtiles(flds,savenamebase,Γ[\"readme\"])"
   ]
  },
  {
   "cell_type": "code",
   "execution_count": null,
   "metadata": {},
   "outputs": [],
   "source": []
  }
 ],
 "metadata": {
  "@webio": {
   "lastCommId": null,
   "lastKernelId": null
  },
  "jupytext": {
   "encoding": "# -*- coding: utf-8 -*-",
   "formats": "ipynb,jl:light"
  },
  "kernelspec": {
   "display_name": "Julia 1.3.1",
   "language": "julia",
   "name": "julia-1.3"
  },
  "language_info": {
   "file_extension": ".jl",
   "mimetype": "application/julia",
   "name": "julia",
   "version": "1.3.1"
  },
  "toc": {
   "base_numbering": 1,
   "nav_menu": {},
   "number_sections": true,
   "sideBar": true,
   "skip_h1_title": false,
   "title_cell": "Table of Contents",
   "title_sidebar": "Contents",
   "toc_cell": false,
   "toc_position": {},
   "toc_section_display": true,
   "toc_window_display": false
  }
 },
 "nbformat": 4,
 "nbformat_minor": 4
}
