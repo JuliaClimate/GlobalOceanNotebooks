{
 "cells": [
  {
   "cell_type": "markdown",
   "metadata": {},
   "source": [
    "# NCTiles.jl examples"
   ]
  },
  {
   "cell_type": "markdown",
   "metadata": {},
   "source": [
    "This notebook demonstrates the use of `NCTiles.jl` in combination with `MeshArrays.jl` (or in standalone mode) to create `NetCDF` files (or read them to memory). Several examples are included:\n",
    "\n",
    "1. Write interpolated model output, on a regular `lat-lon` grid, to a single `NetCDF` file\n",
    "  - 2D example\n",
    "  - 3D example\n",
    "2. Write tiled model output, on a tiled C-grid, to a `NCTiles` collection (multiple `NetCDF` files)\n",
    "  - 2D, free surface example\n",
    "  - 3D, temperature example\n",
    "  - 3D, C-grid vector example\n",
    "\n",
    "Running the examples requires that you first download and decompress test files:\n",
    "\n",
    "```\n",
    "git clone https://github.com/gaelforget/nctiles-testcases\n",
    "gunzip nctiles-testcases/diags/*.gz\n",
    "```"
   ]
  },
  {
   "cell_type": "markdown",
   "metadata": {},
   "source": [
    "### Packages & input files\n",
    "\n",
    "_These will be used throughout the notebook_"
   ]
  },
  {
   "cell_type": "code",
   "execution_count": 1,
   "metadata": {},
   "outputs": [],
   "source": [
    "using NCTiles, MeshArrays\n",
    "\n",
    "if !isdir(\"../inputs/nctiles-testcases\")\n",
    "    run(`git clone https://github.com/gaelforget/nctiles-testcases ../inputs/nctiles-testcases`)\n",
    "end\n",
    "#run(`gunzip nctiles-testcases/diags/trsp_3d_set1.0000000732.data.gz`)"
   ]
  },
  {
   "cell_type": "markdown",
   "metadata": {},
   "source": [
    "Helper functions will be used avoid code duplication below:"
   ]
  },
  {
   "cell_type": "code",
   "execution_count": 2,
   "metadata": {},
   "outputs": [
    {
     "data": {
      "text/plain": [
       "addvfgridvars"
      ]
     },
     "execution_count": 2,
     "metadata": {},
     "output_type": "execute_result"
    }
   ],
   "source": [
    "include(\"nctiles_helper_functions.jl\")"
   ]
  },
  {
   "cell_type": "markdown",
   "metadata": {},
   "source": [
    "### Back-end and file paths\n",
    "\n",
    "_These will be used throughout the notebook_"
   ]
  },
  {
   "cell_type": "code",
   "execution_count": 3,
   "metadata": {},
   "outputs": [],
   "source": [
    "# Back-end\n",
    "nc=NCTiles.NCDatasets\n",
    "\n",
    "# Paths\n",
    "datadir = \"../inputs/nctiles-testcases/\"\n",
    "availdiagsfile = joinpath(datadir,\"available_diagnostics.log\")\n",
    "readmefile = joinpath(datadir,\"README\")\n",
    "griddir = joinpath(datadir,\"grid_float32/\")\n",
    "nativedir = joinpath(datadir,\"diags/\")\n",
    "interpdir = joinpath(datadir,\"diags_interp/\")\n",
    "\n",
    "resultsdir = \"../outputs/nctiles-newfiles/\"\n",
    "if ~ispath(resultsdir); mkpath(resultsdir); end"
   ]
  },
  {
   "cell_type": "markdown",
   "metadata": {},
   "source": [
    "### Set up dimensions, sizes, and meta data"
   ]
  },
  {
   "cell_type": "code",
   "execution_count": 4,
   "metadata": {},
   "outputs": [
    {
     "data": {
      "text/plain": [
       "3-element Array{String,1}:\n",
       " \"Please replace this placeholder file with a descriptive\"\n",
       " \"paragraph that may provide a product name, version #,\"  \n",
       " \"and contact point for user support.\"                    "
      ]
     },
     "execution_count": 4,
     "metadata": {},
     "output_type": "execute_result"
    }
   ],
   "source": [
    "# Dimensions & sizes\n",
    "prec = Float32\n",
    "dep_l=-readbin(joinpath(griddir,\"RF.data\"),prec,(51,1))[2:end]\n",
    "dep_c=-readbin(joinpath(griddir,\"RC.data\"),prec,(50,1))[:]\n",
    "dep_lvar = NCvar(\"dep_l\",\"m\",size(dep_l),dep_l,Dict([\"long_name\" => \"depth\",\"positive\"=>\"down\",\"standard_name\"=>\"depth\"]),nc)\n",
    "dep_cvar = NCvar(\"dep_c\",\"m\",size(dep_c),dep_c,Dict([\"long_name\" => \"depth\",\"positive\"=>\"down\",\"standard_name\"=>\"depth\"]),nc)\n",
    "nsteps = 240\n",
    "timeinterval = 3\n",
    "time_steps = timeinterval/2:timeinterval:timeinterval*nsteps\n",
    "time_units = \"days since 1992-01-01 0:0:0\"\n",
    "timevar = NCvar(\"tim\",time_units,Inf,time_steps,Dict((\"long_name\" => \"time\",\"standard_name\" => \"time\")),nc)\n",
    "\n",
    "# Meta data\n",
    "README = readlines(readmefile)"
   ]
  },
  {
   "cell_type": "markdown",
   "metadata": {},
   "source": [
    "## Interpolated Data Examples"
   ]
  },
  {
   "cell_type": "markdown",
   "metadata": {},
   "source": [
    "This example first interpolates 2D and 3D fields to a rectangular half-degree grid. See below for dimension and size definitions. The interpolated data is then written to a single `NetCDF` file for each variable."
   ]
  },
  {
   "cell_type": "code",
   "execution_count": 5,
   "metadata": {},
   "outputs": [
    {
     "data": {
      "text/plain": [
       "(720, 360, 50)"
      ]
     },
     "execution_count": 5,
     "metadata": {},
     "output_type": "execute_result"
    }
   ],
   "source": [
    "lon_c=-179.75:0.5:179.75; lat_c=-89.75:0.5:89.75;\n",
    "lon_cvar = NCvar(\"lon_c\",\"degrees_east\",size(lon_c),lon_c,Dict(\"long_name\" => \"longitude\"),nc)\n",
    "lat_cvar = NCvar(\"lat_c\",\"degrees_north\",size(lat_c),lat_c,Dict(\"long_name\" => \"longitude\"),nc)\n",
    "n1,n2,n3 = (length(lon_c),length(lat_c),length(dep_c))"
   ]
  },
  {
   "cell_type": "markdown",
   "metadata": {},
   "source": [
    "### Interpolate"
   ]
  },
  {
   "cell_type": "markdown",
   "metadata": {},
   "source": [
    "This section will take the original model output on the LLC90 grid and interpolate it to a rectangular half-degree grid. This will be done using `loop_task1` from [`CbiomesProcessing.jl`](https://github.com/gaelforget/CbiomesProcessing.jl). The following section is currently run using pre-interpolated data produced with [`gcmfaces`](https://github.com/gaelforget/gcmfaces) in Matlab."
   ]
  },
  {
   "cell_type": "markdown",
   "metadata": {},
   "source": [
    "### Output path\n",
    "\n",
    "The following path will be used for this part's output."
   ]
  },
  {
   "cell_type": "code",
   "execution_count": 6,
   "metadata": {},
   "outputs": [],
   "source": [
    "writedir = joinpath(resultsdir,\"interp\")\n",
    "if ~ispath(writedir); mkpath(writedir); end"
   ]
  },
  {
   "cell_type": "markdown",
   "metadata": {},
   "source": [
    "### 2D example"
   ]
  },
  {
   "cell_type": "markdown",
   "metadata": {},
   "source": [
    "Choose variable to process and get the corresponding list of input files"
   ]
  },
  {
   "cell_type": "code",
   "execution_count": 7,
   "metadata": {},
   "outputs": [
    {
     "data": {
      "text/plain": [
       "3-element Array{String,1}:\n",
       " \"../inputs/nctiles-testcases/diags_interp/ETAN/ETAN.0000000732.data\"\n",
       " \"../inputs/nctiles-testcases/diags_interp/ETAN/ETAN.0000001428.data\"\n",
       " \"../inputs/nctiles-testcases/diags_interp/ETAN/ETAN.0000002172.data\""
      ]
     },
     "execution_count": 7,
     "metadata": {},
     "output_type": "execute_result"
    }
   ],
   "source": [
    "dataset = \"state_2d_set1\"\n",
    "fldname = \"ETAN\"\n",
    "flddatadir = joinpath(interpdir,fldname)\n",
    "fnames = joinpath.(Ref(flddatadir),filter(x -> occursin(\".data\",x), readdir(flddatadir)))"
   ]
  },
  {
   "cell_type": "markdown",
   "metadata": {},
   "source": [
    "Get meta data for the chosen variable"
   ]
  },
  {
   "cell_type": "code",
   "execution_count": 8,
   "metadata": {},
   "outputs": [
    {
     "data": {
      "text/plain": [
       "Dict{String,Any} with 7 entries:\n",
       "  \"mate\"    => \"\"\n",
       "  \"units\"   => \"m\"\n",
       "  \"diagNum\" => 23\n",
       "  \"fldname\" => \"ETAN\"\n",
       "  \"title\"   => \"Surface Height Anomaly\"\n",
       "  \"code\"    => \"SM      M1\"\n",
       "  \"levs\"    => 1"
      ]
     },
     "execution_count": 8,
     "metadata": {},
     "output_type": "execute_result"
    }
   ],
   "source": [
    "diaginfo = readAvailDiagnosticsLog(availdiagsfile,fldname)"
   ]
  },
  {
   "cell_type": "markdown",
   "metadata": {},
   "source": [
    "Define:\n",
    "\n",
    "- a `BinData` struct to contain the file names, precision, and array size.\n",
    "- a `NCvar` struct that sets up the subsequent `write` operation (incl. `BinData` struct."
   ]
  },
  {
   "cell_type": "code",
   "execution_count": 9,
   "metadata": {},
   "outputs": [
    {
     "data": {
      "text/plain": [
       "NCvar(\"ETAN\", \"m\", NCvar[NCvar(\"lon_c\", \"degrees_east\", (720,), -179.75:0.5:179.75, Dict(\"long_name\"=>\"longitude\"), NCDatasets), NCvar(\"lat_c\", \"degrees_north\", (360,), -89.75:0.5:89.75, Dict(\"long_name\"=>\"longitude\"), NCDatasets), NCvar(\"tim\", \"days since 1992-01-01 0:0:0\", Inf, 1.5:3.0:718.5, Dict(\"long_name\"=>\"time\",\"standard_name\"=>\"time\"), NCDatasets)], BinData([\"../inputs/nctiles-testcases/diags_interp/ETAN/ETAN.0000000732.data\", \"../inputs/nctiles-testcases/diags_interp/ETAN/ETAN.0000001428.data\", \"../inputs/nctiles-testcases/diags_interp/ETAN/ETAN.0000002172.data\"], Float32, (720, 360), 1), Dict(\"long_name\"=>\"Surface Height Anomaly\"), NCDatasets)"
      ]
     },
     "execution_count": 9,
     "metadata": {},
     "output_type": "execute_result"
    }
   ],
   "source": [
    "flddata = BinData(fnames,prec,(n1,n2))\n",
    "dims = [lon_cvar, lat_cvar, timevar]\n",
    "field = NCvar(fldname,diaginfo[\"units\"],dims,flddata,\n",
    "    Dict(\"long_name\" => diaginfo[\"title\"]),nc)"
   ]
  },
  {
   "cell_type": "markdown",
   "metadata": {},
   "source": [
    "Create the NetCDF file and write data to it."
   ]
  },
  {
   "cell_type": "code",
   "execution_count": 10,
   "metadata": {},
   "outputs": [],
   "source": [
    "# Create the NetCDF file and populate with dimension and field info\n",
    "ds,fldvar,dimlist = createfile(joinpath(writedir,fldname*\".nc\"),field,README)\n",
    "\n",
    "# Add field and dimension data\n",
    "addData(fldvar,field)\n",
    "addDimData.(Ref(ds),field.dims)\n",
    "\n",
    "# Close the file\n",
    "close(ds)"
   ]
  },
  {
   "cell_type": "markdown",
   "metadata": {},
   "source": [
    "### 3D example"
   ]
  },
  {
   "cell_type": "code",
   "execution_count": 11,
   "metadata": {},
   "outputs": [],
   "source": [
    "# Get the filenames for our first dataset and other information about the field.\n",
    "dataset = \"WVELMASS\"\n",
    "fldname = \"WVELMASS\"\n",
    "flddatadir = joinpath(interpdir,fldname)\n",
    "fnames = flddatadir*'/'.*filter(x -> occursin(\".data\",x), readdir(flddatadir))\n",
    "diaginfo = readAvailDiagnosticsLog(availdiagsfile,fldname)\n",
    "\n",
    "# Define the field for writing using an NCvar struct. BinData contains the filenames\n",
    "# where the data sits so it's only loaded when needed.\n",
    "flddata = BinData(fnames,prec,(n1,n2,n3))\n",
    "dims = [lon_cvar, lat_cvar, dep_lvar, timevar]\n",
    "field = NCvar(fldname,diaginfo[\"units\"],dims,flddata,Dict(\"long_name\" => diaginfo[\"title\"]),nc)\n",
    "\n",
    "# Create the NetCDF file and populate with dimension and field info\n",
    "ds,fldvar,dimlist = createfile(joinpath(writedir,fldname*\".nc\"),field,README)\n",
    "\n",
    "# Add field and dimension data\n",
    "addData(fldvar,field)\n",
    "addDimData.(Ref(ds),field.dims)\n",
    "\n",
    "# Close the file\n",
    "close(ds)"
   ]
  },
  {
   "cell_type": "markdown",
   "metadata": {},
   "source": [
    "## Tiled Data Examples"
   ]
  },
  {
   "cell_type": "markdown",
   "metadata": {},
   "source": [
    "This example reads in global variables defined over a collection of subdomain arrays (_tiles_) using `MeshArrays.jl`, and writes them to a collection of `NetCDF` files (_nctiles_) using `NCTiles.jl`"
   ]
  },
  {
   "cell_type": "markdown",
   "metadata": {},
   "source": [
    "### Output path\n",
    "\n",
    "The following path will be used for this part's output."
   ]
  },
  {
   "cell_type": "code",
   "execution_count": 12,
   "metadata": {},
   "outputs": [],
   "source": [
    "writedir = joinpath(resultsdir,\"tiled\")\n",
    "~ispath(writedir) ? mkpath(writedir) : nothing"
   ]
  },
  {
   "cell_type": "markdown",
   "metadata": {},
   "source": [
    "### Set up dimensions, sizes, and meta data"
   ]
  },
  {
   "cell_type": "code",
   "execution_count": 13,
   "metadata": {},
   "outputs": [
    {
     "data": {
      "text/plain": [
       "NCvar(\"thic\", \"m\", NCvar[NCvar(\"dep_l\", \"m\", (50,), Float32[10.0, 20.0, 30.0, 40.0, 50.0, 60.0, 70.0, 80.01, 90.04, 100.15  …  2854.0, 3126.5, 3422.0, 3740.5, 4082.0, 4446.5, 4834.0, 5244.5, 5678.0, 6134.5], Dict(\"long_name\"=>\"depth\",\"standard_name\"=>\"depth\",\"positive\"=>\"down\"), NCDatasets)], Float32[10.0, 10.0, 10.0, 10.0, 10.0, 10.0, 10.005, 10.02, 10.07, 10.215  …  261.0, 284.0, 307.0, 330.0, 353.0, 376.0, 399.0, 422.0, 445.0, 228.25], Dict(\"standard_name\"=>\"cell_thickness\"), NCDatasets)"
      ]
     },
     "execution_count": 13,
     "metadata": {},
     "output_type": "execute_result"
    }
   ],
   "source": [
    "# Read grid into MeshArrays\n",
    "mygrid = GridSpec(\"LatLonCap\",griddir)\n",
    "mygrid = gcmgrid(griddir,mygrid.class,mygrid.nFaces,\n",
    "    mygrid.fSize, mygrid.ioSize, Float32, mygrid.read, mygrid.write)\n",
    "gridvars = addvfgridvars(GridLoad(mygrid))\n",
    "\n",
    "tilesize = (30,30)\n",
    "(n1,n2,n3) = (90,1170,50)\n",
    "\n",
    "# First two dimensions\n",
    "icvar = NCvar(\"i_c\",\"1\",tilesize[1],1:tilesize[1],Dict(\"long_name\" => \"Cartesian coordinate 1\"),nc)\n",
    "jcvar = NCvar(\"j_c\",\"1\",tilesize[2],1:tilesize[2],Dict(\"long_name\" => \"Cartesian coordinate 2\"),nc)\n",
    "iwvar = NCvar(\"i_w\",\"1\",tilesize[1],1:tilesize[1],Dict(\"long_name\" => \"Cartesian coordinate 1\"),nc)\n",
    "jwvar = NCvar(\"j_w\",\"1\",tilesize[2],1:tilesize[2],Dict(\"long_name\" => \"Cartesian coordinate 2\"),nc)\n",
    "isvar = NCvar(\"i_s\",\"1\",tilesize[1],1:tilesize[1],Dict(\"long_name\" => \"Cartesian coordinate 1\"),nc)\n",
    "jsvar = NCvar(\"j_s\",\"1\",tilesize[2],1:tilesize[2],Dict(\"long_name\" => \"Cartesian coordinate 2\"),nc)\n",
    "\n",
    "# Land masks indicate which points are land, which are ocean\n",
    "landC = gridvars[\"hFacC\"]\n",
    "landW = gridvars[\"hFacW\"]\n",
    "landS = gridvars[\"hFacS\"]\n",
    "for f in landC.fIndex\n",
    "    for d in 1:size(landC,2)\n",
    "        landC[f,d][landC[f,d].==0] .= NaN\n",
    "        landC[f,d][landC[f,d].>0] .= 1\n",
    "\n",
    "        landW[f,d][landW[f,d].==0] .= NaN\n",
    "        landW[f,d][landW[f,d].>0] .= 1\n",
    "\n",
    "        landS[f,d][landS[f,d].==0] .= NaN\n",
    "        landS[f,d][landS[f,d].>0] .= 1\n",
    "    end\n",
    "end\n",
    "\n",
    "# Variable indicating the depth/thickness of each cell\n",
    "thicc = gridvars[\"DRF\"]\n",
    "thicl = gridvars[\"DRC\"][2:end]\n",
    "\n",
    "# TileData struct- calculates the locations of each tile in the\n",
    "# data to retrieve when needed for writing\n",
    "tilareaC = TileData(gridvars[\"RAC\"],tilesize,mygrid)\n",
    "tileinfo = tilareaC.tileinfo; numtiles = tilareaC.numtiles\n",
    "tilareaW = TileData(gridvars[\"RAW\"],tileinfo,tilesize,prec,numtiles)\n",
    "tilareaS = TileData(gridvars[\"RAS\"],tileinfo,tilesize,prec,numtiles)\n",
    "tilland3D = TileData(landC,tileinfo,tilesize,prec,numtiles)\n",
    "tilland2D = TileData(landC[:,1],tileinfo,tilesize,prec,numtiles)\n",
    "tillandW = TileData(landW,tileinfo,tilesize,prec,numtiles)\n",
    "tillandS = TileData(landS,tileinfo,tilesize,prec,numtiles)\n",
    "tillatc = TileData(gridvars[\"YC\"],tileinfo,tilesize,prec,numtiles)\n",
    "tillonc = TileData(gridvars[\"XC\"],tileinfo,tilesize,prec,numtiles)\n",
    "tillatw = TileData(gridvars[\"YW\"],tileinfo,tilesize,prec,numtiles)\n",
    "tillonw = TileData(gridvars[\"XW\"],tileinfo,tilesize,prec,numtiles)\n",
    "tillats = TileData(gridvars[\"YS\"],tileinfo,tilesize,prec,numtiles)\n",
    "tillons = TileData(gridvars[\"XS\"],tileinfo,tilesize,prec,numtiles)\n",
    "\n",
    "# NCvar structs outline fields and their metadata to be written to the file\n",
    "loncvar = NCvar(\"lon\",\"degrees_east\",[icvar,jcvar],tillonc,Dict(\"long_name\" => \"longitude\"),nc)\n",
    "latcvar = NCvar(\"lat\",\"degrees_north\",[icvar,jcvar],tillatc,Dict(\"long_name\" => \"latitude\"),nc)\n",
    "lonwvar = NCvar(\"lon\",\"degrees_east\",[iwvar,jwvar],tillonw,Dict(\"long_name\" => \"longitude\"),nc)\n",
    "latwvar = NCvar(\"lat\",\"degrees_north\",[iwvar,jwvar],tillatw,Dict(\"long_name\" => \"latitude\"),nc)\n",
    "lonsvar = NCvar(\"lon\",\"degrees_east\",[isvar,jsvar],tillons,Dict(\"long_name\" => \"longitude\"),nc)\n",
    "latsvar = NCvar(\"lat\",\"degrees_north\",[isvar,jsvar],tillats,Dict(\"long_name\" => \"latitude\"),nc)\n",
    "areacvar = NCvar(\"area\",\"m^2\",[icvar,jcvar],tilareaC,Dict([\"long_name\" => \"grid cell area\", \"standard_name\" => \"cell_area\"]),nc)\n",
    "areawvar = NCvar(\"area\",\"m^2\",[iwvar,jwvar],tilareaW,Dict([\"long_name\" => \"grid cell area\", \"standard_name\" => \"cell_area\"]),nc)\n",
    "areasvar = NCvar(\"area\",\"m^2\",[isvar,jsvar],tilareaS,Dict([\"long_name\" => \"grid cell area\", \"standard_name\" => \"cell_area\"]),nc)\n",
    "land3Dvar = NCvar(\"land\",\"1\",[icvar,jcvar,dep_cvar],tilland3D,Dict([\"long_name\" => \"land mask\", \"standard_name\" => \"land_binary_mask\"]),nc)\n",
    "land2Dvar = NCvar(\"land\",\"1\",[icvar,jcvar],tilland2D,Dict([\"long_name\" => \"land mask\", \"standard_name\" => \"land_binary_mask\"]),nc)\n",
    "landwvar = NCvar(\"land\",\"1\",[iwvar,jwvar,dep_cvar],tillandW,Dict([\"long_name\" => \"land mask\", \"standard_name\" => \"land_binary_mask\"]),nc)\n",
    "landsvar = NCvar(\"land\",\"1\",[isvar,jsvar,dep_cvar],tillandS,Dict([\"long_name\" => \"land mask\", \"standard_name\" => \"land_binary_mask\"]),nc)\n",
    "thiccvar = NCvar(\"thic\",\"m\",dep_cvar,thicc,Dict(\"standard_name\" => \"cell_thickness\"),nc)\n",
    "thiclvar = NCvar(\"thic\",\"m\",dep_lvar,thicl,Dict(\"standard_name\" => \"cell_thickness\"),nc)"
   ]
  },
  {
   "cell_type": "markdown",
   "metadata": {},
   "source": [
    "### 2D example"
   ]
  },
  {
   "cell_type": "markdown",
   "metadata": {},
   "source": [
    "Choose variable to process and get the corresponding list of input files"
   ]
  },
  {
   "cell_type": "code",
   "execution_count": 14,
   "metadata": {},
   "outputs": [],
   "source": [
    "dataset = \"state_2d_set1\"\n",
    "fldname = \"ETAN\"\n",
    "fnames = nativedir*'/'.*filter(x -> (occursin(\".data\",x) && occursin(dataset,x)), readdir(nativedir))\n",
    "savepath = joinpath(writedir,fldname)\n",
    "if ~ispath(savepath); mkpath(savepath); end\n",
    "savenamebase = joinpath.(Ref(savepath),fldname)\n",
    "diaginfo = readAvailDiagnosticsLog(availdiagsfile,fldname);"
   ]
  },
  {
   "cell_type": "markdown",
   "metadata": {},
   "source": [
    "Prepare dictionary of `NCvar` structs and write to `NetCDF` files."
   ]
  },
  {
   "cell_type": "code",
   "execution_count": 15,
   "metadata": {},
   "outputs": [],
   "source": [
    "flddata = BinData(fnames,prec,(n1,n2))\n",
    "tilfld = TileData(flddata,tilesize,mygrid)\n",
    "\n",
    "dims = [icvar, jcvar, timevar]\n",
    "coords = join(replace([dim.name for dim in dims],\"i_c\" => \"lon\", \"j_c\" => \"lat\"),\" \")\n",
    "flds = Dict([fldname => NCvar(fldname,diaginfo[\"units\"],dims,tilfld,Dict([\"long_name\" => diaginfo[\"title\"], \"coordinates\" => coords]),nc),\n",
    "            \"lon\" => loncvar,\n",
    "            \"lat\" => latcvar,\n",
    "            \"area\" => areacvar,\n",
    "            \"land\" => land2Dvar\n",
    "])\n",
    "\n",
    "writeNetCDFtiles(flds,savenamebase,README)"
   ]
  },
  {
   "cell_type": "markdown",
   "metadata": {},
   "source": [
    "### 3D example"
   ]
  },
  {
   "cell_type": "code",
   "execution_count": 16,
   "metadata": {},
   "outputs": [],
   "source": [
    "# Get the filenames for our first dataset and other information about the field.\n",
    "dataset = \"state_3d_set1\"\n",
    "fldname = \"THETA\"\n",
    "fnames = nativedir*'/'.*filter(x -> (occursin(\".data\",x) && occursin(dataset,x)), readdir(nativedir))\n",
    "savepath = joinpath(writedir,fldname)\n",
    "if ~ispath(savepath); mkpath(savepath); end\n",
    "savenamebase = joinpath.(Ref(savepath),fldname)\n",
    "diaginfo = readAvailDiagnosticsLog(availdiagsfile,fldname)\n",
    "\n",
    "# Fields to be written to the file are indicated with a dictionary of NCvar structs.\n",
    "flddata = BinData(fnames,prec,(n1,n2,n3))\n",
    "dims = [icvar, jcvar, dep_cvar, timevar]\n",
    "tilfld = TileData(flddata,tilesize,mygrid)\n",
    "coords = join(replace([dim.name for dim in dims],\"i_c\" => \"lon\", \"j_c\" => \"lat\"),\" \")\n",
    "flds = Dict([fldname => NCvar(fldname,diaginfo[\"units\"],dims,tilfld,Dict([\"long_name\" => diaginfo[\"title\"], \"coordinates\" => coords]),nc),\n",
    "            \"lon\" => loncvar,\n",
    "            \"lat\" => latcvar,\n",
    "            \"area\" => areacvar,\n",
    "            \"land\" => land3Dvar,\n",
    "            \"thic\" => thiccvar\n",
    "])\n",
    "\n",
    "# Write to NetCDF files\n",
    "writeNetCDFtiles(flds,savenamebase,README)"
   ]
  },
  {
   "cell_type": "markdown",
   "metadata": {},
   "source": [
    "### 3D vector example\n",
    "\n",
    "Here we process the three staggered components of a vector field (`UVELMASS`, `VVELMASS` and `WVELMASS`). On a `C-grid` these components are staggered in space.\n",
    "\n",
    "First component : `UVELMASS`"
   ]
  },
  {
   "cell_type": "code",
   "execution_count": 17,
   "metadata": {},
   "outputs": [],
   "source": [
    "# Get the filenames for our first dataset and create BinData struct\n",
    "dataset = \"trsp_3d_set1\"\n",
    "fldname = \"UVELMASS\"\n",
    "fnames = nativedir*'/'.*filter(x -> (occursin(\".data\",x) && occursin(dataset,x)), readdir(nativedir))\n",
    "savepath = joinpath(writedir,fldname)\n",
    "if ~ispath(savepath); mkpath(savepath); end\n",
    "savenamebase = joinpath.(Ref(savepath),fldname)\n",
    "diaginfo = readAvailDiagnosticsLog(availdiagsfile,fldname)\n",
    "\n",
    "# Define field- BinData contains the filenames where the data sits so it's only loaded when needed\n",
    "flddata = BinData(fnames,prec,(n1,n2,n3))\n",
    "dims = [iwvar, jwvar, dep_cvar, timevar]\n",
    "tilfld = TileData(flddata,tilesize,mygrid)\n",
    "coords = join(replace([dim.name for dim in dims],\"i_w\" => \"lon\", \"j_w\" => \"lat\"),\" \")\n",
    "flds = Dict([fldname => NCvar(fldname,diaginfo[\"units\"],dims,tilfld,Dict([\"long_name\" => diaginfo[\"title\"], \"coordinates\" => coords]),nc),\n",
    "            \"lon\" => lonwvar,\n",
    "            \"lat\" => latwvar,\n",
    "            \"area\" => areawvar,\n",
    "            \"land\" => landwvar,\n",
    "            \"thic\" => thiccvar\n",
    "])\n",
    "\n",
    "writeNetCDFtiles(flds,savenamebase,README)"
   ]
  },
  {
   "cell_type": "markdown",
   "metadata": {},
   "source": [
    "Second component : `VVELMASS`"
   ]
  },
  {
   "cell_type": "code",
   "execution_count": 18,
   "metadata": {},
   "outputs": [],
   "source": [
    "# Get the filenames for our first dataset and create BinData struct\n",
    "dataset = \"trsp_3d_set1\"\n",
    "fldname = \"VVELMASS\"\n",
    "fnames = nativedir*'/'.*filter(x -> (occursin(\".data\",x) && occursin(dataset,x)), readdir(nativedir))\n",
    "savepath = joinpath(writedir,fldname)\n",
    "if ~ispath(savepath); mkpath(savepath); end\n",
    "savenamebase = joinpath.(Ref(savepath),fldname)\n",
    "diaginfo = readAvailDiagnosticsLog(availdiagsfile,fldname)\n",
    "\n",
    "# Define field- BinData contains the filenames where the data sits so it's only loaded when needed\n",
    "flddata = BinData(fnames,prec,(n1,n2,n3))\n",
    "dims = [isvar, jsvar, dep_cvar, timevar]\n",
    "tilfld = TileData(flddata,tilesize,mygrid)\n",
    "coords = join(replace([dim.name for dim in dims],\"i_s\" => \"lon\", \"j_s\" => \"lat\"),\" \")\n",
    "flds = Dict([fldname => NCvar(fldname,diaginfo[\"units\"],dims,tilfld,Dict([\"long_name\" => diaginfo[\"title\"], \"coordinates\" => coords]),nc),\n",
    "            \"lon\" => lonsvar,\n",
    "            \"lat\" => latsvar,\n",
    "            \"area\" => areasvar,\n",
    "            \"land\" => landsvar,\n",
    "            \"thic\" => thiccvar\n",
    "])\n",
    "\n",
    "writeNetCDFtiles(flds,savenamebase,README)"
   ]
  },
  {
   "cell_type": "markdown",
   "metadata": {},
   "source": [
    "Third component : `WVELMASS`"
   ]
  },
  {
   "cell_type": "code",
   "execution_count": 19,
   "metadata": {},
   "outputs": [],
   "source": [
    "# Get the filenames for our first dataset and create BinData struct\n",
    "dataset = \"trsp_3d_set1\"\n",
    "fldname = \"WVELMASS\"\n",
    "fnames = nativedir*'/'.*filter(x -> (occursin(\".data\",x) && occursin(dataset,x)), readdir(nativedir))\n",
    "savepath = joinpath(writedir,fldname)\n",
    "if ~ispath(savepath); mkpath(savepath); end\n",
    "savenamebase = joinpath.(Ref(savepath),fldname)\n",
    "diaginfo = readAvailDiagnosticsLog(availdiagsfile,fldname)\n",
    "\n",
    "# Define field- BinData contains the filenames where the data sits so it's only loaded when needed\n",
    "flddata = BinData(fnames,prec,(n1,n2,n3))\n",
    "dims = [icvar, jcvar, dep_lvar, timevar]\n",
    "tilfld = TileData(flddata,tilesize,mygrid)\n",
    "coords = join(replace([dim.name for dim in dims],\"i_c\" => \"lon\", \"j_c\" => \"lat\"),\" \")\n",
    "flds = Dict([fldname => NCvar(fldname,diaginfo[\"units\"],dims,tilfld,Dict([\"long_name\" => diaginfo[\"title\"], \"coordinates\" => coords]),nc),\n",
    "            \"lon\" => loncvar,\n",
    "            \"lat\" => latcvar,\n",
    "            \"area\" => areacvar,\n",
    "            \"land\" => land3Dvar,\n",
    "            \"thic\" => thiclvar\n",
    "])\n",
    "\n",
    "writeNetCDFtiles(flds,savenamebase,README)"
   ]
  }
 ],
 "metadata": {
  "@webio": {
   "lastCommId": null,
   "lastKernelId": null
  },
  "jupytext": {
   "formats": "ipynb,jl:light"
  },
  "kernelspec": {
   "display_name": "Julia 1.1.0",
   "language": "julia",
   "name": "julia-1.1"
  },
  "language_info": {
   "file_extension": ".jl",
   "mimetype": "application/julia",
   "name": "julia",
   "version": "1.1.0"
  },
  "toc": {
   "base_numbering": 1,
   "nav_menu": {},
   "number_sections": true,
   "sideBar": true,
   "skip_h1_title": false,
   "title_cell": "Table of Contents",
   "title_sidebar": "Contents",
   "toc_cell": false,
   "toc_position": {},
   "toc_section_display": true,
   "toc_window_display": false
  }
 },
 "nbformat": 4,
 "nbformat_minor": 2
}
