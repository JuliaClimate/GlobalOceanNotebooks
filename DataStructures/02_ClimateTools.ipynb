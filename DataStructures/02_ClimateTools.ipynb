{
 "cells": [
  {
   "cell_type": "markdown",
   "metadata": {
    "slideshow": {
     "slide_type": "slide"
    }
   },
   "source": [
    "# `ClimateTools.jl` and `ClimatePlots.jl`\n",
    "\n",
    "[ClimateTools.jl](https://juliaclimate.github.io/ClimateTools.jl/dev/) is a collection of commonly-used tools aimed to ease the typical steps in (1) analyzing climate models outputs from netCDF files that follow CF-conventions and (2) creating climate scenarios. [ClimatePlots.jl](https://juliaclimate.github.io/ClimatePlots.jl/dev/) is the associated plotting library.\n",
    "\n",
    "**Note : This has not been tested since 2020, and may not currently work**"
   ]
  },
  {
   "cell_type": "code",
   "execution_count": 1,
   "metadata": {
    "slideshow": {
     "slide_type": "subslide"
    }
   },
   "outputs": [],
   "source": [
    "if false #set to true if you have not yet installed packages listed below\n",
    "    using Pkg\n",
    "    Pkg.add(PackageSpec(name=\"ClimateTools\", rev=\"master\"))\n",
    "\n",
    "    Pkg.add(\"PyCall\")\n",
    "    ENV[\"PYTHON\"]=\"\"\n",
    "    Pkg.build(\"PyCall\")\n",
    "    Pkg.add(PackageSpec(name=\"ClimatePlots\", rev=\"master\"))\n",
    "\n",
    "    run(`wget http://esgf-data1.diasjp.net/thredds/fileServer/esg_dataroot/cmip5/output1/MIROC/MIROC5/piControl/day/atmos/day/r1i1p1/v20161012/tas/tas_day_MIROC5_piControl_r1i1p1_20000101-20091231.nc`)\n",
    "    run(`mv tas_day_MIROC5_piControl_r1i1p1_20000101-20091231.nc ../inputs/`)\n",
    "end"
   ]
  },
  {
   "cell_type": "markdown",
   "metadata": {
    "slideshow": {
     "slide_type": "-"
    }
   },
   "source": [
    "_Note: `tas_day_MIROC5_piControl_*.nc` was downloaded [here](http://esgf-data1.diasjp.net/thredds/fileServer/esg_dataroot/cmip5/output1/MIROC/MIROC5/piControl/day/atmos/day/r1i1p1/v20161012/tas/tas_day_MIROC5_piControl_r1i1p1_20000101-20091231.nc) by selecting `piControl,day,tas,MIROC5` in [the search engine](https://esgf-node.llnl.gov/search/cmip5/)_\n",
    "\n",
    "```\n",
    "project=CMIP5, model=MIROC5, Atmosphere and Ocean Research Institute (The University of Tokyo), \n",
    "experiment=pre-industrial control, time_frequency=day, modeling realm=atmos, ensemble=r1i1p1,\n",
    "Description: MIROC5 model output prepared for CMIP5 pre-industrial control \n",
    "```"
   ]
  },
  {
   "cell_type": "markdown",
   "metadata": {
    "slideshow": {
     "slide_type": "slide"
    }
   },
   "source": [
    "## Get Meta-Data From File\n",
    "\n",
    "_Note: uncomment the final line to display the file meta data_"
   ]
  },
  {
   "cell_type": "code",
   "execution_count": null,
   "metadata": {
    "slideshow": {
     "slide_type": "-"
    }
   },
   "outputs": [],
   "source": [
    "using ClimateTools, ClimatePlots\n",
    "\n",
    "p=\"../inputs\"\n",
    "fil=\"$p/tas_day_MIROC5_piControl_r1i1p1_20000101-20091231.nc\"\n",
    "#fil=\"$p/clt_day_MIROC5_historical_r4i1p1_19500101-19591231.nc\"\n",
    "d=Dataset(fil);"
   ]
  },
  {
   "cell_type": "markdown",
   "metadata": {
    "slideshow": {
     "slide_type": "slide"
    }
   },
   "source": [
    "## Read & Plot A Variable"
   ]
  },
  {
   "cell_type": "code",
   "execution_count": null,
   "metadata": {
    "slideshow": {
     "slide_type": "fragment"
    }
   },
   "outputs": [],
   "source": [
    "p1=joinpath(dirname(pathof(ClimateTools)),\"../test/data\")\n",
    "\n",
    "#fil1=\"$p1/orog_fx_GFDL-ESM2G_historicalMisc_r0i0p0.nc\"\n",
    "fil1=\"$p1/sresa1b_ncar_ccsm3-example.nc\"\n",
    "model1 = load(fil1, \"pr\", data_units=\"mm\")\n",
    "contourf(model1, region = \"Mollweide\");"
   ]
  },
  {
   "cell_type": "markdown",
   "metadata": {
    "slideshow": {
     "slide_type": "slide"
    }
   },
   "source": [
    "## Extract Subset And Plot Region\n",
    "\n",
    "_Note : see `ClimatePlots.jl/src/maps_definition.jl`_"
   ]
  },
  {
   "cell_type": "code",
   "execution_count": null,
   "metadata": {
    "slideshow": {
     "slide_type": "fragment"
    }
   },
   "outputs": [],
   "source": [
    "poly_reg = [[NaN -65 -80 -80 -65 -65];[NaN 42 42 52 52 42]]\n",
    "model2 = load(fil, \"tas\", poly=poly_reg)\n",
    "contourf(model2, region = \"Quebec\");"
   ]
  },
  {
   "cell_type": "markdown",
   "metadata": {
    "slideshow": {
     "slide_type": "slide"
    }
   },
   "source": [
    "## Inspect Meta Data"
   ]
  },
  {
   "cell_type": "code",
   "execution_count": null,
   "metadata": {
    "lines_to_next_cell": 0,
    "slideshow": {
     "slide_type": "fragment"
    }
   },
   "outputs": [],
   "source": [
    "#d\n",
    "#model1\n",
    "model2"
   ]
  },
  {
   "cell_type": "markdown",
   "metadata": {},
   "source": [
    "## Read & Plot Another Variable\n",
    "\n",
    "Here we read data **from a file you would create by running** `DataStructures/03_nctiles.ipynb` after veryfing that the file is indeed found on disk (i.e., it has already been created by a user via `03_nctiles`)."
   ]
  },
  {
   "cell_type": "code",
   "execution_count": null,
   "metadata": {},
   "outputs": [],
   "source": [
    "p3=\"../outputs/nctiles-newfiles/interp\"\n",
    "tst=sum(occursin.(\"ETAN.nc\",readdir(p3)))>0\n",
    "if tst\n",
    "    #access data\n",
    "    model3 = load(\"$p3/ETAN.nc\", \"ETAN\")\n",
    "    #deal with missing values\n",
    "    m=model3.data\n",
    "    for i in eachindex(m)\n",
    "        m[i]>1e10 ? m[i]=NaN : nothing\n",
    "    end\n",
    "    model3.data\n",
    "    #create map    \n",
    "    contourf(model3, region = \"Mollweide\")\n",
    "end"
   ]
  },
  {
   "cell_type": "code",
   "execution_count": null,
   "metadata": {
    "lines_to_next_cell": 2
   },
   "outputs": [],
   "source": []
  }
 ],
 "metadata": {
  "@webio": {
   "lastCommId": null,
   "lastKernelId": null
  },
  "celltoolbar": "Slideshow",
  "jupytext": {
   "formats": "ipynb,jl:light"
  },
  "kernelspec": {
   "display_name": "Julia 1.6.0",
   "language": "julia",
   "name": "julia-1.6"
  },
  "language_info": {
   "file_extension": ".jl",
   "mimetype": "application/julia",
   "name": "julia",
   "version": "1.6.0"
  }
 },
 "nbformat": 4,
 "nbformat_minor": 4
}
