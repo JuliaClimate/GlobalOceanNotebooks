{
 "cells": [
  {
   "cell_type": "markdown",
   "metadata": {},
   "source": [
    "## `MeshArrays` represent global gridded variables\n",
    "\n",
    "Each `MeshArray` contains an array of elementary arrays that (1) are connected at their edges and (2) collectively form a global grid. Global grid specifications are contained within `gcmgrid` instances.\n",
    "\n",
    "#### First, let's load the `MeshArrays.jl` package"
   ]
  },
  {
   "cell_type": "code",
   "execution_count": 1,
   "metadata": {},
   "outputs": [],
   "source": [
    "using MeshArrays"
   ]
  },
  {
   "cell_type": "markdown",
   "metadata": {},
   "source": [
    "#### Select a pre-defined grid such as `LLC90`"
   ]
  },
  {
   "cell_type": "code",
   "execution_count": 2,
   "metadata": {},
   "outputs": [
    {
     "data": {
      "text/plain": [
       "gcmgrid(\"./GRID_LLC90/\", \"llc\", 5, Tuple{Int64,Int64}[(90, 270), (90, 270), (90, 90), (270, 90), (270, 90)], [90 1170], Float64, read, write)"
      ]
     },
     "execution_count": 2,
     "metadata": {},
     "output_type": "execute_result"
    }
   ],
   "source": [
    "mygrid=GridSpec(\"LLC90\")"
   ]
  },
  {
   "cell_type": "markdown",
   "metadata": {},
   "source": [
    "And download the pre-defined grid if needed"
   ]
  },
  {
   "cell_type": "code",
   "execution_count": 3,
   "metadata": {},
   "outputs": [],
   "source": [
    "!isdir(\"GRID_LLC90\") ? run(`git clone https://github.com/gaelforget/GRID_LLC90`) : nothing"
   ]
  },
  {
   "cell_type": "markdown",
   "metadata": {},
   "source": [
    "#### Read a MeshArray from file\n",
    "\n",
    "Read a global field from binary file and convert it to `MeshArrays`'s `gcmfaces` type"
   ]
  },
  {
   "cell_type": "code",
   "execution_count": 4,
   "metadata": {},
   "outputs": [
    {
     "name": "stdout",
     "output_type": "stream",
     "text": [
      "\u001b[0m gcmarray \n",
      "\u001b[0m  grid type   = \u001b[34mllc\u001b[39m\n",
      "\u001b[0m  data type   = \u001b[34mFloat64\u001b[39m\n",
      "\u001b[0m  tile array  = \u001b[34m(5,)\u001b[39m\n",
      "\u001b[0m  tile sizes  = \u001b[34m(90, 270)\u001b[39m\n",
      "\u001b[0m                \u001b[34m(90, 270)\u001b[39m\n",
      "\u001b[0m                \u001b[34m(90, 90)\u001b[39m\n",
      "\u001b[0m                \u001b[34m(270, 90)\u001b[39m\n",
      "\u001b[0m                \u001b[34m(270, 90)\u001b[39m\n"
     ]
    }
   ],
   "source": [
    "D=mygrid.read(mygrid.path*\"Depth.data\",MeshArray(mygrid,Float64))\n",
    "show(D)"
   ]
  },
  {
   "cell_type": "markdown",
   "metadata": {},
   "source": [
    "The read / write functions can also be used to convert a MeshArray from / to Array"
   ]
  },
  {
   "cell_type": "code",
   "execution_count": 5,
   "metadata": {},
   "outputs": [
    {
     "data": {
      "text/plain": [
       "5-element MeshArrays.gcmarray{Float64,1}:\n",
       " [0.0 0.0 … 0.0 0.0; 0.0 0.0 … 0.0 0.0; … ; 0.0 0.0 … 0.0 0.0; 0.0 0.0 … 0.0 0.0]\n",
       " [0.0 0.0 … 0.0 0.0; 0.0 0.0 … 0.0 0.0; … ; 0.0 0.0 … 0.0 0.0; 0.0 0.0 … 0.0 0.0]\n",
       " [0.0 0.0 … 0.0 0.0; 0.0 0.0 … 0.0 0.0; … ; 0.0 0.0 … 0.0 0.0; 0.0 0.0 … 0.0 0.0]\n",
       " [0.0 0.0 … 0.0 0.0; 0.0 0.0 … 0.0 0.0; … ; 0.0 0.0 … 0.0 0.0; 0.0 0.0 … 0.0 0.0]\n",
       " [0.0 0.0 … 0.0 0.0; 0.0 0.0 … 0.0 0.0; … ; 0.0 0.0 … 0.0 0.0; 0.0 0.0 … 0.0 0.0]"
      ]
     },
     "execution_count": 5,
     "metadata": {},
     "output_type": "execute_result"
    }
   ],
   "source": [
    "tmp1=write(D)\n",
    "tmp2=read(tmp1,D)"
   ]
  },
  {
   "cell_type": "markdown",
   "metadata": {},
   "source": [
    "#### MeshArrays should behave just like Arrays\n",
    "\n",
    "Here are a few examples that would be coded similarly in both cases"
   ]
  },
  {
   "cell_type": "code",
   "execution_count": 6,
   "metadata": {},
   "outputs": [
    {
     "data": {
      "text/plain": [
       "5-element MeshArrays.gcmarray{Float64,1}:\n",
       " [NaN NaN … NaN NaN; NaN NaN … NaN NaN; … ; NaN NaN … NaN NaN; NaN NaN … NaN NaN]\n",
       " [NaN NaN … NaN NaN; NaN NaN … NaN NaN; … ; NaN NaN … NaN NaN; NaN NaN … NaN NaN]\n",
       " [NaN NaN … NaN NaN; NaN NaN … NaN NaN; … ; NaN NaN … NaN NaN; NaN NaN … NaN NaN]\n",
       " [NaN NaN … NaN NaN; NaN NaN … NaN NaN; … ; NaN NaN … NaN NaN; NaN NaN … NaN NaN]\n",
       " [NaN NaN … NaN NaN; NaN NaN … NaN NaN; … ; NaN NaN … NaN NaN; NaN NaN … NaN NaN]"
      ]
     },
     "execution_count": 6,
     "metadata": {},
     "output_type": "execute_result"
    }
   ],
   "source": [
    "size(D)\n",
    "eltype(D)\n",
    "view(D,:)\n",
    "\n",
    "D .* 1.0\n",
    "D .* D\n",
    "1000*D\n",
    "D*1000\n",
    "\n",
    "D[findall(D .> 300.)] .= NaN\n",
    "D[findall(D .< 1.)] .= NaN\n",
    "\n",
    "D[1]=0.0 .+ D[1]\n",
    "tmp=cos.(D)"
   ]
  },
  {
   "cell_type": "code",
   "execution_count": null,
   "metadata": {},
   "outputs": [],
   "source": []
  }
 ],
 "metadata": {
  "@webio": {
   "lastCommId": null,
   "lastKernelId": null
  },
  "jupytext": {
   "formats": "ipynb,jl:light"
  },
  "kernelspec": {
   "display_name": "Julia 1.1.0",
   "language": "julia",
   "name": "julia-1.1"
  },
  "language_info": {
   "file_extension": ".jl",
   "mimetype": "application/julia",
   "name": "julia",
   "version": "1.1.0"
  }
 },
 "nbformat": 4,
 "nbformat_minor": 2
}
