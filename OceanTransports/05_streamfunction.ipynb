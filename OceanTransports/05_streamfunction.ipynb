{
 "cells": [
  {
   "cell_type": "markdown",
   "metadata": {
    "slideshow": {
     "slide_type": "slide"
    }
   },
   "source": [
    "# Transport Streamfunction And Divergent Component\n",
    "\n",
    "Here we apply such [Helmholtz Decomposition](https://en.wikipedia.org/wiki/Helmholtz_decomposition) to vertically integrated transports defined over a Global Ocean model (`C-grid`).\n",
    "\n",
    "1. read vertically integrated transport from file\n",
    "2. compute its convergence and apply land mask\n",
    "3. decompose into rotational and divergent components\n",
    "4. derive streamfunction from the rotational component"
   ]
  },
  {
   "cell_type": "markdown",
   "metadata": {
    "slideshow": {
     "slide_type": "slide"
    }
   },
   "source": [
    "### Read Transports & Grid From File\n",
    "\n",
    "1. pre-requisites\n",
    "2. read variables"
   ]
  },
  {
   "cell_type": "code",
   "execution_count": 1,
   "metadata": {
    "cell_style": "center",
    "slideshow": {
     "slide_type": "subslide"
    }
   },
   "outputs": [],
   "source": [
    "using MeshArrays, Plots, Statistics\n",
    "pth=dirname(pathof(MeshArrays))\n",
    "include(joinpath(pth,\"../examples/Plots.jl\"))\n",
    "include(\"helper_functions.jl\")\n",
    "\n",
    "pth=MeshArrays.GRID_LLC90\n",
    "γ=GridSpec(\"LatLonCap\",pth)\n",
    "Γ=GridLoad(γ)\n",
    "(Tx,Ty,τx,τy,η)=trsp_read(\"LatLonCap\",pth);"
   ]
  },
  {
   "cell_type": "code",
   "execution_count": 2,
   "metadata": {},
   "outputs": [],
   "source": [
    "μ =Γ[\"hFacC\"][:,1]\n",
    "μ[findall(μ.>0.0)].=1.0\n",
    "μ[findall(μ.==0.0)].=NaN\n",
    "\n",
    "lon=[i for i=-179.:2.0:179., j=-89.:2.0:89.]\n",
    "lat=[j for i=-179.:2.0:179., j=-89.:2.0:89.]\n",
    "(f,i,j,w)=InterpolationFactors(Γ,vec(lon),vec(lat))\n",
    "λ=(lon=lon,lat=lat,f=f,i=i,j=j,w=w);"
   ]
  },
  {
   "cell_type": "markdown",
   "metadata": {
    "slideshow": {
     "slide_type": "slide"
    }
   },
   "source": [
    "### Helmholtz Decomposition\n",
    "\n",
    "1. convergence & land mask\n",
    "2. compute scalar potential\n",
    "3. subtract divergent component\n",
    "4. compute vector potential / streamfunction\n",
    "\n",
    "_note: masking avoids singularities related to isolated canyons_"
   ]
  },
  {
   "cell_type": "code",
   "execution_count": 3,
   "metadata": {
    "slideshow": {
     "slide_type": "subslide"
    }
   },
   "outputs": [
    {
     "ename": "LoadError",
     "evalue": "\u001b[91mUndefVarError: msk not defined\u001b[39m",
     "output_type": "error",
     "traceback": [
      "\u001b[91mUndefVarError: msk not defined\u001b[39m",
      "",
      "Stacktrace:",
      " [1] top-level scope at In[3]:2",
      " [2] include_string(::Function, ::Module, ::String, ::String) at ./loading.jl:1091"
     ]
    }
   ],
   "source": [
    "#convergence & land mask\n",
    "TrspCon=msk.*convergence(Tx,Ty)\n",
    "\n",
    "#scalar potential\n",
    "TrspPot=ScalarPotential(TrspCon)\n",
    "\n",
    "#Divergent transport component\n",
    "(TxD,TyD)=gradient(TrspPot,Γ)\n",
    "TxD=TxD.*Γ[\"DXC\"]\n",
    "TyD=TyD.*Γ[\"DYC\"]\n",
    "\n",
    "#Rotational transport component\n",
    "TxR = Tx-TyD\n",
    "TyR = Ty-TyD\n",
    "\n",
    "#vector Potential\n",
    "TrspPsi=VectorPotential(TxR,TyR,Γ);"
   ]
  },
  {
   "cell_type": "markdown",
   "metadata": {
    "slideshow": {
     "slide_type": "skip"
    }
   },
   "source": [
    "### Verify The Results Consistency\n",
    "\n",
    "_Next plot below normally shows that TrspCon-tmpCon is negligible compared with TrspCon_"
   ]
  },
  {
   "cell_type": "code",
   "execution_count": 4,
   "metadata": {
    "cell_style": "center",
    "slideshow": {
     "slide_type": "skip"
    }
   },
   "outputs": [
    {
     "ename": "LoadError",
     "evalue": "\u001b[91mUndefVarError: TxD not defined\u001b[39m",
     "output_type": "error",
     "traceback": [
      "\u001b[91mUndefVarError: TxD not defined\u001b[39m",
      "",
      "Stacktrace:",
      " [1] top-level scope at In[4]:1",
      " [2] include_string(::Function, ::Module, ::String, ::String) at ./loading.jl:1091"
     ]
    }
   ],
   "source": [
    "tmpCon=convergence(TxD,TyD)\n",
    "tmp1=TrspCon[3]\n",
    "tmp2=tmp1[findall(isfinite.(tmp1))]\n",
    "errCon=1/sqrt(mean(tmp2.^2)).*(tmpCon[3]-TrspCon[3])\n",
    "errCon[findall(isnan.(errCon))].=0.0\n",
    "extrema(errCon)"
   ]
  },
  {
   "cell_type": "markdown",
   "metadata": {
    "slideshow": {
     "slide_type": "slide"
    }
   },
   "source": [
    "### Map Out Streamfunction And Scalar Potential\n",
    "\n",
    "_In plots below we interpolate MeshArrays to a regular global grid_"
   ]
  },
  {
   "cell_type": "code",
   "execution_count": 5,
   "metadata": {
    "cell_style": "center",
    "slideshow": {
     "slide_type": "subslide"
    }
   },
   "outputs": [
    {
     "ename": "LoadError",
     "evalue": "\u001b[91mUndefVarError: TrspPsi not defined\u001b[39m",
     "output_type": "error",
     "traceback": [
      "\u001b[91mUndefVarError: TrspPsi not defined\u001b[39m",
      "",
      "Stacktrace:",
      " [1] top-level scope at In[5]:1",
      " [2] include_string(::Function, ::Module, ::String, ::String) at ./loading.jl:1091"
     ]
    }
   ],
   "source": [
    "TrspPsiI=Interpolate(1e-6*μ*TrspPsi,λ.f,λ.i,λ.j,λ.w)\n",
    "contourf(vec(λ.lon[:,1]),vec(λ.lat[1,:]),\n",
    "    TrspPsiI,title=\"Streamfunction\",clims=(-50,50))"
   ]
  },
  {
   "cell_type": "code",
   "execution_count": 6,
   "metadata": {
    "cell_style": "center",
    "lines_to_next_cell": 0,
    "slideshow": {
     "slide_type": "subslide"
    }
   },
   "outputs": [
    {
     "ename": "LoadError",
     "evalue": "\u001b[91mUndefVarError: TrspPot not defined\u001b[39m",
     "output_type": "error",
     "traceback": [
      "\u001b[91mUndefVarError: TrspPot not defined\u001b[39m",
      "",
      "Stacktrace:",
      " [1] top-level scope at In[6]:1",
      " [2] include_string(::Function, ::Module, ::String, ::String) at ./loading.jl:1091"
     ]
    }
   ],
   "source": [
    "TrspPotI=Interpolate(1e-6*μ*TrspPot,λ.f,λ.i,λ.j,λ.w)\n",
    "contourf(vec(λ.lon[:,1]),vec(λ.lat[1,:]),\n",
    "        TrspPotI,title=\"Scalar Potential\",clims=(-0.4,0.4))"
   ]
  },
  {
   "cell_type": "code",
   "execution_count": null,
   "metadata": {
    "lines_to_next_cell": 2
   },
   "outputs": [],
   "source": []
  }
 ],
 "metadata": {
  "@webio": {
   "lastCommId": null,
   "lastKernelId": null
  },
  "celltoolbar": "Slideshow",
  "jupytext": {
   "encoding": "# -*- coding: utf-8 -*-",
   "formats": "ipynb,jl:light"
  },
  "kernelspec": {
   "display_name": "Julia 1.5.0",
   "language": "julia",
   "name": "julia-1.5"
  },
  "language_info": {
   "file_extension": ".jl",
   "mimetype": "application/julia",
   "name": "julia",
   "version": "1.5.0"
  },
  "rise": {
   "autolaunch": true,
   "enable_chalkboard": true
  }
 },
 "nbformat": 4,
 "nbformat_minor": 4
}
