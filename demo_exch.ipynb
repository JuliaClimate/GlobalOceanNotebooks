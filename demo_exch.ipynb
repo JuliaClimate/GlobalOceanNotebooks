{
 "cells": [
  {
   "cell_type": "markdown",
   "metadata": {},
   "source": [
    "## A key concept in `MeshArrays.jl` is the exchange of data between neighboring arrays\n",
    "\n",
    "Load the `MeshArrays` package module"
   ]
  },
  {
   "cell_type": "code",
   "execution_count": 1,
   "metadata": {},
   "outputs": [],
   "source": [
    "using MeshArrays"
   ]
  },
  {
   "cell_type": "markdown",
   "metadata": {},
   "source": [
    "Download the pre-defined grid if needed"
   ]
  },
  {
   "cell_type": "code",
   "execution_count": 2,
   "metadata": {},
   "outputs": [
    {
     "name": "stderr",
     "output_type": "stream",
     "text": [
      "Cloning into 'GRID_CS32'...\n"
     ]
    },
    {
     "data": {
      "text/plain": [
       "Process(`\u001b[4mgit\u001b[24m \u001b[4mclone\u001b[24m \u001b[4mhttps://github.com/gaelforget/GRID_CS32\u001b[24m`, ProcessExited(0))"
      ]
     },
     "execution_count": 2,
     "metadata": {},
     "output_type": "execute_result"
    }
   ],
   "source": [
    "if !isdir(\"GRID_CS32\") \n",
    "    run(`git clone https://github.com/gaelforget/GRID_CS32`)\n",
    "end"
   ]
  },
  {
   "cell_type": "markdown",
   "metadata": {},
   "source": [
    "Select `cube sphere` grid and read `ocean depth` variable"
   ]
  },
  {
   "cell_type": "code",
   "execution_count": 3,
   "metadata": {},
   "outputs": [
    {
     "name": "stdout",
     "output_type": "stream",
     "text": [
      "\u001b[0m gcmfaces array \n",
      "\u001b[0m  grid type   = \u001b[34mcs\u001b[39m\n",
      "\u001b[0m  # of faces  = \u001b[34m6\u001b[39m\n",
      "\u001b[0m  data type   = \u001b[34mFloat32\u001b[39m\n",
      "\u001b[0m  face sizes  = \u001b[34m(32, 32)\u001b[39m\n",
      "\u001b[0m                \u001b[34m(32, 32)\u001b[39m\n",
      "\u001b[0m                \u001b[34m(32, 32)\u001b[39m\n",
      "\u001b[0m                \u001b[34m(32, 32)\u001b[39m\n",
      "\u001b[0m                \u001b[34m(32, 32)\u001b[39m\n",
      "\u001b[0m                \u001b[34m(32, 32)\u001b[39m\n"
     ]
    }
   ],
   "source": [
    "GCMGridSpec(\"CS32\")\n",
    "D=read_bin(MeshArrays.grDir*\"Depth.data\",MeshArrays.ioPrec)\n",
    "show(D)"
   ]
  },
  {
   "cell_type": "markdown",
   "metadata": {},
   "source": [
    "Use the `exchange` function to add neighboring points at face edges"
   ]
  },
  {
   "cell_type": "code",
   "execution_count": null,
   "metadata": {},
   "outputs": [],
   "source": [
    "Dexch=exchange(D,4)\n",
    "show(Dexch)"
   ]
  },
  {
   "cell_type": "markdown",
   "metadata": {},
   "source": [
    "Use the `Plots` package to illustrate what just happened"
   ]
  },
  {
   "cell_type": "code",
   "execution_count": null,
   "metadata": {},
   "outputs": [],
   "source": [
    "using Plots; gr()\n",
    "P=heatmap(D.f[6],title=\"Ocean Depth (D, Face 6)\")\n",
    "Pexch=heatmap(Dexch.f[6],title=\"...(Dexch, Face 6)\")\n",
    "plot(P,Pexch)"
   ]
  },
  {
   "cell_type": "code",
   "execution_count": null,
   "metadata": {},
   "outputs": [],
   "source": []
  }
 ],
 "metadata": {
  "kernelspec": {
   "display_name": "Julia 1.1.0",
   "language": "julia",
   "name": "julia-1.1"
  },
  "language_info": {
   "file_extension": ".jl",
   "mimetype": "application/julia",
   "name": "julia",
   "version": "1.1.0"
  }
 },
 "nbformat": 4,
 "nbformat_minor": 2
}
