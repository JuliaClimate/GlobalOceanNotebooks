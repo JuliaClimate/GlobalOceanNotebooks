{
 "cells": [
  {
   "cell_type": "markdown",
   "metadata": {},
   "source": [
    "## `MeshArrays.jl` represents global grids where multiple arrays are connected at their edges as a new data type\n",
    "\n",
    "Load the `MeshArrays.jl` package"
   ]
  },
  {
   "cell_type": "code",
   "execution_count": 1,
   "metadata": {},
   "outputs": [],
   "source": [
    "using MeshArrays"
   ]
  },
  {
   "cell_type": "markdown",
   "metadata": {},
   "source": [
    "Select a pre-defined grid; `LLC90` is used here"
   ]
  },
  {
   "cell_type": "code",
   "execution_count": 2,
   "metadata": {},
   "outputs": [
    {
     "data": {
      "text/plain": [
       "gcmgrid(\"./GRID_LLC90/\", \"llc\", 5, Tuple{Int64,Int64}[(90, 270), (90, 270), (90, 90), (270, 90), (270, 90)], [90 1170], Float64, read, write)"
      ]
     },
     "execution_count": 2,
     "metadata": {},
     "output_type": "execute_result"
    }
   ],
   "source": [
    "mygrid=GridSpec(\"LLC90\")"
   ]
  },
  {
   "cell_type": "markdown",
   "metadata": {},
   "source": [
    "Download the pre-defined grid if needed"
   ]
  },
  {
   "cell_type": "code",
   "execution_count": 3,
   "metadata": {},
   "outputs": [],
   "source": [
    "if !isdir(\"GRID_LLC90\") \n",
    "    run(`git clone https://github.com/gaelforget/GRID_LLC90`)\n",
    "end"
   ]
  },
  {
   "cell_type": "markdown",
   "metadata": {},
   "source": [
    "Read a global field from binary file and convert it to `MeshArrays`'s `gcmfaces` type"
   ]
  },
  {
   "cell_type": "code",
   "execution_count": 4,
   "metadata": {},
   "outputs": [
    {
     "name": "stdout",
     "output_type": "stream",
     "text": [
      "\u001b[0m gcmarray \n",
      "\u001b[0m  grid type   = \u001b[34mllc\u001b[39m\n",
      "\u001b[0m  array size  = \u001b[34m(5,)\u001b[39m\n",
      "\u001b[0m  data type   = \u001b[34mFloat64\u001b[39m\n",
      "\u001b[0m  face sizes  = \u001b[34m(90, 270)\u001b[39m\n",
      "\u001b[0m                \u001b[34m(90, 270)\u001b[39m\n",
      "\u001b[0m                \u001b[34m(90, 90)\u001b[39m\n",
      "\u001b[0m                \u001b[34m(270, 90)\u001b[39m\n",
      "\u001b[0m                \u001b[34m(270, 90)\u001b[39m\n"
     ]
    }
   ],
   "source": [
    "D=mygrid.read(mygrid.path*\"Depth.data\",MeshArray(mygrid,Float64))\n",
    "show(D)"
   ]
  },
  {
   "cell_type": "code",
   "execution_count": null,
   "metadata": {},
   "outputs": [],
   "source": []
  }
 ],
 "metadata": {
  "jupytext": {
   "formats": "ipynb,jl:light"
  },
  "kernelspec": {
   "display_name": "Julia 1.1.0",
   "language": "julia",
   "name": "julia-1.1"
  },
  "language_info": {
   "file_extension": ".jl",
   "mimetype": "application/julia",
   "name": "julia",
   "version": "1.1.0"
  }
 },
 "nbformat": 4,
 "nbformat_minor": 2
}
