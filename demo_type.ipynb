{
 "cells": [
  {
   "cell_type": "markdown",
   "metadata": {},
   "source": [
    "Load the `GCMFaces` package module"
   ]
  },
  {
   "cell_type": "code",
   "execution_count": 1,
   "metadata": {},
   "outputs": [],
   "source": [
    "using GCMFaces"
   ]
  },
  {
   "cell_type": "markdown",
   "metadata": {},
   "source": [
    "Select a pre-defined grid; here the one named `LLC90` is used"
   ]
  },
  {
   "cell_type": "code",
   "execution_count": 2,
   "metadata": {},
   "outputs": [
    {
     "name": "stdout",
     "output_type": "stream",
     "text": [
      "Grid has been defined.\n"
     ]
    }
   ],
   "source": [
    "GCMGridSpec(\"LLC90\");"
   ]
  },
  {
   "cell_type": "markdown",
   "metadata": {},
   "source": [
    "Read a global field from binary file and convert it to the `GCMFaces` type"
   ]
  },
  {
   "cell_type": "code",
   "execution_count": 3,
   "metadata": {},
   "outputs": [
    {
     "data": {
      "text/plain": [
       "\u001b[0m gcmfaces array \n",
       "\u001b[0m  grid type   = \u001b[34mllc\u001b[39m\n",
       "\u001b[0m  # of faces  = \u001b[34m5\u001b[39m\n",
       "\u001b[0m  data type   = \u001b[34mFloat64\u001b[39m\n",
       "\u001b[0m  face sizes  = \u001b[34m(90, 270)\u001b[39m\n",
       "\u001b[0m                \u001b[34m(90, 270)\u001b[39m\n",
       "\u001b[0m                \u001b[34m(90, 90)\u001b[39m\n",
       "\u001b[0m                \u001b[34m(270, 90)\u001b[39m\n",
       "\u001b[0m                \u001b[34m(270, 90)\u001b[39m\n"
      ]
     },
     "execution_count": 3,
     "metadata": {},
     "output_type": "execute_result"
    }
   ],
   "source": [
    "read_bin(GCMFaces.grDir*\"Depth.data\",GCMFaces.ioPrec)"
   ]
  },
  {
   "cell_type": "code",
   "execution_count": null,
   "metadata": {},
   "outputs": [],
   "source": []
  }
 ],
 "metadata": {
  "kernelspec": {
   "display_name": "Julia 0.7.0",
   "language": "julia",
   "name": "julia-0.7"
  },
  "language_info": {
   "file_extension": ".jl",
   "mimetype": "application/julia",
   "name": "julia",
   "version": "0.7.0"
  }
 },
 "nbformat": 4,
 "nbformat_minor": 2
}
