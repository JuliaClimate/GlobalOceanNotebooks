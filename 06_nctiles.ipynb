{
 "cells": [
  {
   "cell_type": "markdown",
   "metadata": {},
   "source": [
    "# Test Cases"
   ]
  },
  {
   "cell_type": "markdown",
   "metadata": {},
   "source": [
    "This notebook demonstrates several test cases.\n",
    "1. Interpolate (TODO) and write to NetCDF files (Done)\n",
    "  - 2D data\n",
    "  - Vertical vector field data\n",
    "2. Write data to multiple files separated into \"tiles\" in native grid.\n",
    "  - 2D data\n",
    "  - 3D data\n",
    "  - Vector field data\n",
    "3. Calculate climatology for interpolated data and write to NetCDF files (TODO)\n",
    "  - 2D data\n",
    "  - Vertical vector field data\n",
    "  "
   ]
  },
  {
   "cell_type": "markdown",
   "metadata": {},
   "source": [
    "# Setup"
   ]
  },
  {
   "cell_type": "markdown",
   "metadata": {},
   "source": [
    "Setting the paths and dimensions that will be used throughout this notebook."
   ]
  },
  {
   "cell_type": "code",
   "execution_count": 2,
   "metadata": {},
   "outputs": [
    {
     "data": {
      "text/plain": [
       "4-element Array{String,1}:\n",
       " \"This product has been provided by the Simons Collaboration on \"                    \n",
       " \"Computational Biogeochemical Modeling of Marine Ecosystems (https://cbiomes.org/).\"\n",
       " \"Product identifier: CBIOMES-global, version alpha.\"                                \n",
       " \"\"                                                                                  "
      ]
     },
     "execution_count": 2,
     "metadata": {},
     "output_type": "execute_result"
    }
   ],
   "source": [
    "using NCTiles,NCDatasets,NetCDF,MeshArrays\n",
    "\n",
    "# Set Paths\n",
    "datadir = joinpath(\"../../DarwinModelOutputSamples\",\"test\")\n",
    "outputdir = joinpath(datadir,\"diags\")\n",
    "availdiagsfile = joinpath(datadir,\"run\",\"available_diagnostics.log\")\n",
    "griddir = joinpath(datadir,\"run/\")\n",
    "resultsdir = joinpath(datadir,\"results\")\n",
    "\n",
    "# Dimensions\n",
    "prec = Float32\n",
    "dep_l=-readbin(joinpath(griddir,\"RF.data\"),prec,(51,1))[2:end]\n",
    "dep_c=-readbin(joinpath(griddir,\"RC.data\"),prec,(50,1))[:]\n",
    "dep_lvar = NCvar(\"dep_l\",\"m\",size(dep_l),dep_l,Dict([\"long_name\" => \"depth\",\"positive\"=>\"down\",\"standard_name\"=>\"depth\"]),NCDatasets)\n",
    "dep_cvar = NCvar(\"dep_c\",\"m\",size(dep_c),dep_c,Dict([\"long_name\" => \"depth\",\"positive\"=>\"down\",\"standard_name\"=>\"depth\"]),NCDatasets)\n",
    "nsteps = 240\n",
    "timeinterval = 3\n",
    "time_steps = timeinterval/2:timeinterval:timeinterval*nsteps\n",
    "time_units = \"days since 1992-01-01 0:0:0\"\n",
    "timevar = NCvar(\"tim\",time_units,Inf,time_steps,Dict((\"long_name\" => \"time\",\"standard_name\" => \"time\")),NCDatasets)\n",
    "\n",
    "README = readlines(joinpath(datadir,\"run\",\"README\"))"
   ]
  },
  {
   "cell_type": "markdown",
   "metadata": {},
   "source": [
    "# Interpolated Data Test Case"
   ]
  },
  {
   "cell_type": "markdown",
   "metadata": {},
   "source": [
    "This example first interpolates 2D and 3D data to a rectangular half-degree grid. This interpolated data is then written to a single NetCDF file per field."
   ]
  },
  {
   "cell_type": "markdown",
   "metadata": {},
   "source": [
    "Setup paths and dimensions used for interpolated data."
   ]
  },
  {
   "cell_type": "code",
   "execution_count": 3,
   "metadata": {},
   "outputs": [
    {
     "data": {
      "text/plain": [
       "(720, 360, 50)"
      ]
     },
     "execution_count": 3,
     "metadata": {},
     "output_type": "execute_result"
    }
   ],
   "source": [
    "interpdir = joinpath(datadir,\"interp\")\n",
    "writedir = joinpath(resultsdir,\"ncfiles_interp\")\n",
    "\n",
    "if ~ispath(writedir); mkpath(writedir); end\n",
    "\n",
    "# Interpolated dimensions\n",
    "lon_c=-179.75:0.5:179.75; lat_c=-89.75:0.5:89.75;\n",
    "lon_cvar = NCvar(\"lon_c\",\"degrees_east\",size(lon_c),lon_c,Dict(\"long_name\" => \"longitude\"),NCDatasets)\n",
    "lat_cvar = NCvar(\"lat_c\",\"degrees_north\",size(lat_c),lat_c,Dict(\"long_name\" => \"longitude\"),NCDatasets)\n",
    "n1,n2,n3 = (length(lon_c),length(lat_c),length(dep_c))"
   ]
  },
  {
   "cell_type": "markdown",
   "metadata": {},
   "source": [
    "## Interpolate"
   ]
  },
  {
   "cell_type": "markdown",
   "metadata": {},
   "source": [
    "This section will take the original model output on the LLC90 grid and interpolate it to a rectangular half-degree grid. This will be done using `loop_task1` from [`CbiomesProcessing.jl`](https://github.com/gaelforget/CbiomesProcessing.jl). The following section is currently run using pre-interpolated data produced with [`gcmfaces`](https://github.com/gaelforget/gcmfaces) in Matlab."
   ]
  },
  {
   "cell_type": "markdown",
   "metadata": {},
   "source": [
    "## Write interpolated data to NetCDF Files"
   ]
  },
  {
   "cell_type": "markdown",
   "metadata": {},
   "source": [
    "### 2D Field ETAN"
   ]
  },
  {
   "cell_type": "markdown",
   "metadata": {},
   "source": [
    "Get the filenames for our first dataset and other information about the field."
   ]
  },
  {
   "cell_type": "code",
   "execution_count": 5,
   "metadata": {},
   "outputs": [
    {
     "data": {
      "text/plain": [
       "Dict{String,Any} with 7 entries:\n",
       "  \"mate\"    => \"\"\n",
       "  \"units\"   => \"m\"\n",
       "  \"diagNum\" => 23\n",
       "  \"fldname\" => \"ETAN\"\n",
       "  \"title\"   => \"Surface Height Anomaly\"\n",
       "  \"code\"    => \"SM      M1\"\n",
       "  \"levs\"    => 1"
      ]
     },
     "execution_count": 5,
     "metadata": {},
     "output_type": "execute_result"
    }
   ],
   "source": [
    "dataset = \"state_2d_set1\"\n",
    "fldname = \"ETAN\"\n",
    "flddatadir = joinpath(interpdir,dataset,fldname)\n",
    "fnames = joinpath.(Ref(flddatadir),filter(x -> occursin(\".data\",x), readdir(flddatadir)))\n",
    "diaginfo = readAvailDiagnosticsLog(availdiagsfile,fldname)"
   ]
  },
  {
   "cell_type": "markdown",
   "metadata": {},
   "source": [
    "Define the field for writing using an NCvar struct. BinData contains the filenames where the data sits so it's only loaded when needed."
   ]
  },
  {
   "cell_type": "code",
   "execution_count": 7,
   "metadata": {},
   "outputs": [
    {
     "data": {
      "text/plain": [
       "NCvar(\"ETAN\", \"m\", NCvar[NCvar(\"lon_c\", \"degrees_east\", (720,), -179.75:0.5:179.75, Dict(\"long_name\"=>\"longitude\"), NCDatasets), NCvar(\"lat_c\", \"degrees_north\", (360,), -89.75:0.5:89.75, Dict(\"long_name\"=>\"longitude\"), NCDatasets), NCvar(\"tim\", \"days since 1992-01-01 0:0:0\", Inf, 1.5:3.0:718.5, Dict(\"long_name\"=>\"time\",\"standard_name\"=>\"time\"), NCDatasets)], BinData([\"../../DarwinModelOutputSamples/test/interp/state_2d_set1/ETAN/ETAN.0000000732.data\", \"../../DarwinModelOutputSamples/test/interp/state_2d_set1/ETAN/ETAN.0000001428.data\", \"../../DarwinModelOutputSamples/test/interp/state_2d_set1/ETAN/ETAN.0000002172.data\", \"../../DarwinModelOutputSamples/test/interp/state_2d_set1/ETAN/ETAN.0000002892.data\", \"../../DarwinModelOutputSamples/test/interp/state_2d_set1/ETAN/ETAN.0000003636.data\", \"../../DarwinModelOutputSamples/test/interp/state_2d_set1/ETAN/ETAN.0000004356.data\", \"../../DarwinModelOutputSamples/test/interp/state_2d_set1/ETAN/ETAN.0000005100.data\", \"../../DarwinModelOutputSamples/test/interp/state_2d_set1/ETAN/ETAN.0000005844.data\", \"../../DarwinModelOutputSamples/test/interp/state_2d_set1/ETAN/ETAN.0000006564.data\", \"../../DarwinModelOutputSamples/test/interp/state_2d_set1/ETAN/ETAN.0000007308.data\"  …  \"../../DarwinModelOutputSamples/test/interp/state_2d_set1/ETAN/ETAN.0000168708.data\", \"../../DarwinModelOutputSamples/test/interp/state_2d_set1/ETAN/ETAN.0000169428.data\", \"../../DarwinModelOutputSamples/test/interp/state_2d_set1/ETAN/ETAN.0000170172.data\", \"../../DarwinModelOutputSamples/test/interp/state_2d_set1/ETAN/ETAN.0000170892.data\", \"../../DarwinModelOutputSamples/test/interp/state_2d_set1/ETAN/ETAN.0000171636.data\", \"../../DarwinModelOutputSamples/test/interp/state_2d_set1/ETAN/ETAN.0000172380.data\", \"../../DarwinModelOutputSamples/test/interp/state_2d_set1/ETAN/ETAN.0000173100.data\", \"../../DarwinModelOutputSamples/test/interp/state_2d_set1/ETAN/ETAN.0000173844.data\", \"../../DarwinModelOutputSamples/test/interp/state_2d_set1/ETAN/ETAN.0000174564.data\", \"../../DarwinModelOutputSamples/test/interp/state_2d_set1/ETAN/ETAN.0000175296.data\"], Float32, (720, 360), 1), Dict(\"long_name\"=>\"Surface Height Anomaly\"), NCDatasets)"
      ]
     },
     "execution_count": 7,
     "metadata": {},
     "output_type": "execute_result"
    }
   ],
   "source": [
    "flddata = BinData(fnames,prec,(n1,n2))\n",
    "dims = [lon_cvar, lat_cvar, timevar]\n",
    "field = NCvar(fldname,diaginfo[\"units\"],dims,flddata,Dict(\"long_name\" => diaginfo[\"title\"]),NCDatasets)"
   ]
  },
  {
   "cell_type": "markdown",
   "metadata": {},
   "source": [
    "Create the NetCDF file and write the data to the file."
   ]
  },
  {
   "cell_type": "code",
   "execution_count": 8,
   "metadata": {},
   "outputs": [],
   "source": [
    "# Create the NetCDF file and populate with dimension and field info\n",
    "ds,fldvar,dimlist = createfile(joinpath(writedir,fldname*\".nc\"),field,README)\n",
    "\n",
    "# Add field and dimension data\n",
    "addData(fldvar,field)\n",
    "addDimData.(Ref(ds),field.dims)\n",
    "\n",
    "# Close the file\n",
    "close(ds)"
   ]
  },
  {
   "cell_type": "markdown",
   "metadata": {},
   "source": [
    "### 3D Vertical Vector Field WVELMASS"
   ]
  },
  {
   "cell_type": "code",
   "execution_count": 9,
   "metadata": {},
   "outputs": [],
   "source": [
    "# Get the filenames for our first dataset and other information about the field.\n",
    "dataset = \"trsp_3d_set1\"\n",
    "fldname = \"WVELMASS\"\n",
    "flddatadir = joinpath(interpdir,dataset,fldname)\n",
    "fnames = flddatadir*'/'.*filter(x -> occursin(\".data\",x), readdir(flddatadir))\n",
    "diaginfo = readAvailDiagnosticsLog(availdiagsfile,fldname)\n",
    "\n",
    "# Define the field for writing using an NCvar struct. BinData contains the filenames \n",
    "# where the data sits so it's only loaded when needed.\n",
    "flddata = BinData(fnames,prec,(n1,n2,n3))\n",
    "dims = [lon_cvar, lat_cvar, dep_lvar, timevar]\n",
    "field = NCvar(fldname,diaginfo[\"units\"],dims,flddata,Dict(\"long_name\" => diaginfo[\"title\"]),NCDatasets)\n",
    "\n",
    "# Create the NetCDF file and populate with dimension and field info\n",
    "ds,fldvar,dimlist = createfile(joinpath(writedir,fldname*\".nc\"),field,README)\n",
    "\n",
    "# Add field and dimension data\n",
    "addData(fldvar,field)\n",
    "addDimData.(Ref(ds),field.dims)\n",
    "\n",
    "# Close the file\n",
    "close(ds)"
   ]
  },
  {
   "cell_type": "markdown",
   "metadata": {},
   "source": [
    "# Tiled Test Case"
   ]
  },
  {
   "cell_type": "markdown",
   "metadata": {},
   "source": [
    "This example breaks up the data into tiles and writes those tiles to separate NetCDF files. This is done using the `MeshArrays` Julia package for reading in the data and breaking it up into tiles, and `NCTiles.jl` for writing the tiles."
   ]
  },
  {
   "cell_type": "markdown",
   "metadata": {},
   "source": [
    "## Helper Functions"
   ]
  },
  {
   "cell_type": "markdown",
   "metadata": {},
   "source": [
    "Function for writing out tiled data."
   ]
  },
  {
   "cell_type": "code",
   "execution_count": 40,
   "metadata": {},
   "outputs": [
    {
     "data": {
      "text/plain": [
       "writeNetCDFtiles"
      ]
     },
     "execution_count": 40,
     "metadata": {},
     "output_type": "execute_result"
    }
   ],
   "source": [
    "\"\"\"\n",
    "    writeNetCDFtiles(flds::Dict,savenamebase::String,README::Array)\n",
    "\n",
    "Function to write out tiled NetCDF files. Flds should be a Dict of NCVars, \n",
    "    savenamebase should be the prefix of the filenames to which the tile \n",
    "    number and file exension is added, including full path to the save \n",
    "    location, and README should be an Array of strings containing the\n",
    "    description to write into the files.\n",
    "\"\"\"\n",
    "function writeNetCDFtiles(flds::Dict,savenamebase::String,README::Array)\n",
    "    \n",
    "    savenames = savenamebase*\".\".*lpad.(string.(1:numtiles),4,\"0\").*\".nc\"\n",
    "    \n",
    "    datasets = [createfile(savenames[tidx],flds,README, itile = tidx, ntile = length(savenames)) for tidx in 1:length(savenames)]\n",
    "\n",
    "    ds = [x[1] for x in datasets]\n",
    "    fldvars = [x[2] for x in datasets]\n",
    "\n",
    "    for k in keys(flds)\n",
    "        if isa(flds[k].values,TileData)\n",
    "            addData(fldvars,flds[k])\n",
    "        else\n",
    "            tmpfldvars = [fv[findfirst(isequal(k),name.(fv))] for fv in fldvars]\n",
    "            addData.(tmpfldvars,Ref(flds[k]))\n",
    "        end\n",
    "    end\n",
    "\n",
    "    for dim in dims\n",
    "        addDimData.(ds,Ref(dim))\n",
    "    end\n",
    "\n",
    "    close.(ds);\n",
    "    \n",
    "    return nothing\n",
    "    \n",
    "end"
   ]
  },
  {
   "cell_type": "markdown",
   "metadata": {},
   "source": [
    "Function for getting the latitude/longitude values for the vector field data (`XW`, `YW` and `XS`,`YS`)."
   ]
  },
  {
   "cell_type": "code",
   "execution_count": 11,
   "metadata": {},
   "outputs": [
    {
     "data": {
      "text/plain": [
       "addvfgridvars"
      ]
     },
     "execution_count": 11,
     "metadata": {},
     "output_type": "execute_result"
    }
   ],
   "source": [
    "\"\"\"\n",
    "    addvfgridvars(gridvars::Dict)\n",
    "\n",
    "Function to add XW, YW, XS, and YS to gridvars. These provide \n",
    "    the latitude and longitude for vector fields.\n",
    "\"\"\"\n",
    "function addvfgridvars(gridvars::Dict)\n",
    "    \n",
    "    tmpXC=exchange(gridvars[\"XC\"]); tmpYC=exchange(gridvars[\"YC\"])\n",
    "\n",
    "    gridvars[\"XW\"]=NaN .* gridvars[\"XC\"]; gridvars[\"YW\"]=NaN .* gridvars[\"YC\"];\n",
    "    gridvars[\"XS\"]=NaN .* gridvars[\"XC\"]; gridvars[\"YS\"]=NaN .* gridvars[\"YC\"];\n",
    "\n",
    "    for ff=1:mygrid.nFaces\n",
    "        tmp1=tmpXC[ff][1:end-2,2:end-1]\n",
    "        tmp2=tmpXC[ff][2:end-1,2:end-1]\n",
    "        tmp2[tmp2.-tmp1.>180]=tmp2[tmp2.-tmp1.>180].-360;\n",
    "        tmp2[tmp1.-tmp2.>180]=tmp2[tmp1.-tmp2.>180].+360;\n",
    "        gridvars[\"XW\"][ff]=(tmp1.+tmp2)./2;\n",
    "\n",
    "       #\n",
    "        tmp1=tmpXC[ff][2:end-1,1:end-2]\n",
    "        tmp2=tmpXC[ff][2:end-1,2:end-1]\n",
    "        tmp2[tmp2.-tmp1.>180]=tmp2[tmp2.-tmp1.>180].-360;\n",
    "        tmp2[tmp1.-tmp2.>180]=tmp2[tmp1.-tmp2.>180].+360;\n",
    "        gridvars[\"XS\"][ff]=(tmp1.+tmp2)./2;\n",
    "\n",
    "       #\n",
    "        tmp1=tmpYC[ff][1:end-2,2:end-1]\n",
    "        tmp2=tmpYC[ff][2:end-1,2:end-1]\n",
    "        gridvars[\"YW\"][ff]=(tmp1.+tmp2)./2;\n",
    "\n",
    "       #\n",
    "        tmp1=tmpYC[ff][2:end-1,1:end-2]\n",
    "        tmp2=tmpYC[ff][2:end-1,2:end-1]\n",
    "        gridvars[\"YS\"][ff]=(tmp1.+tmp2)./2;\n",
    "    end;\n",
    "\n",
    "    Xmax=180; Xmin=-180;\n",
    "\n",
    "    gridvars[\"XS\"][findall(gridvars[\"XS\"].<Xmin)]=gridvars[\"XS\"][findall(gridvars[\"XS\"].<Xmin)].+360;\n",
    "    gridvars[\"XS\"][findall(gridvars[\"XS\"].>Xmax)]=gridvars[\"XS\"][findall(gridvars[\"XS\"].>Xmax)].-360;\n",
    "    gridvars[\"XW\"][findall(gridvars[\"XW\"].<Xmin)]=gridvars[\"XW\"][findall(gridvars[\"XW\"].<Xmin)].+360;\n",
    "    gridvars[\"XW\"][findall(gridvars[\"XW\"].>Xmax)]=gridvars[\"XW\"][findall(gridvars[\"XW\"].>Xmax)].-360;\n",
    "    return gridvars\n",
    "end"
   ]
  },
  {
   "cell_type": "markdown",
   "metadata": {},
   "source": [
    "## Setup"
   ]
  },
  {
   "cell_type": "markdown",
   "metadata": {},
   "source": [
    "Setup paths and dimensions used for interpolated data."
   ]
  },
  {
   "cell_type": "code",
   "execution_count": 36,
   "metadata": {},
   "outputs": [
    {
     "data": {
      "text/plain": [
       "NCvar(\"thic\", \"m\", NCvar[NCvar(\"dep_l\", \"m\", (50,), Float32[10.0, 20.0, 30.0, 40.0, 50.0, 60.0, 70.0, 80.01, 90.04, 100.15  …  2854.0, 3126.5, 3422.0, 3740.5, 4082.0, 4446.5, 4834.0, 5244.5, 5678.0, 6134.5], Dict(\"long_name\"=>\"depth\",\"standard_name\"=>\"depth\",\"positive\"=>\"down\"), NCDatasets)], Float32[10.0, 10.0, 10.0, 10.0, 10.0, 10.0, 10.005, 10.02, 10.07, 10.215  …  261.0, 284.0, 307.0, 330.0, 353.0, 376.0, 399.0, 422.0, 445.0, 228.25], Dict(\"standard_name\"=>\"cell_thickness\"), NCDatasets)"
      ]
     },
     "execution_count": 36,
     "metadata": {},
     "output_type": "execute_result"
    }
   ],
   "source": [
    "mygrid = GridSpec(\"LLC90\",griddir)\n",
    "mygrid = gcmgrid(mygrid.path,mygrid.class,mygrid.nFaces,mygrid.fSize, mygrid.ioSize, prec, mygrid.read, mygrid.write)\n",
    "tilesize = (30,30)\n",
    "(n1,n2,n3) = (90,1170,50)\n",
    "writedir = joinpath(resultsdir,\"ncfiles_tiles\")\n",
    "\n",
    "# First two dimensions\n",
    "icvar = NCvar(\"i_c\",\"1\",tilesize[1],1:tilesize[1],Dict(\"long_name\" => \"Cartesian coordinate 1\"),NCDatasets)\n",
    "jcvar = NCvar(\"j_c\",\"1\",tilesize[2],1:tilesize[2],Dict(\"long_name\" => \"Cartesian coordinate 2\"),NCDatasets)\n",
    "iwvar = NCvar(\"i_w\",\"1\",tilesize[1],1:tilesize[1],Dict(\"long_name\" => \"Cartesian coordinate 1\"),NCDatasets)\n",
    "jwvar = NCvar(\"j_w\",\"1\",tilesize[2],1:tilesize[2],Dict(\"long_name\" => \"Cartesian coordinate 2\"),NCDatasets)\n",
    "isvar = NCvar(\"i_s\",\"1\",tilesize[1],1:tilesize[1],Dict(\"long_name\" => \"Cartesian coordinate 1\"),NCDatasets)\n",
    "jsvar = NCvar(\"j_s\",\"1\",tilesize[2],1:tilesize[2],Dict(\"long_name\" => \"Cartesian coordinate 2\"),NCDatasets)\n",
    "\n",
    "gridvars = addvfgridvars(GridLoad(mygrid))\n",
    "\n",
    "# Land masks indicate which points are land, which are ocean\n",
    "landC = gridvars[\"hFacC\"]\n",
    "landW = gridvars[\"hFacW\"]\n",
    "landS = gridvars[\"hFacS\"]\n",
    "for f in landC.fIndex\n",
    "    for d in 1:size(landC,2)\n",
    "        landC[f,d][landC[f,d].==0] .= NaN\n",
    "        landC[f,d][landC[f,d].>0] .= 1\n",
    "        \n",
    "        landW[f,d][landW[f,d].==0] .= NaN\n",
    "        landW[f,d][landW[f,d].>0] .= 1\n",
    "        \n",
    "        landS[f,d][landS[f,d].==0] .= NaN\n",
    "        landS[f,d][landS[f,d].>0] .= 1\n",
    "    end\n",
    "end\n",
    "\n",
    "# Variable indicating the depth/thickness of each cell\n",
    "thicc = gridvars[\"DRF\"]\n",
    "thicl = gridvars[\"DRC\"][2:end]\n",
    "\n",
    "# TileData struct- calculates the locations of each tile in the\n",
    "# data to retrieve when needed for writing\n",
    "tilareaC = TileData(gridvars[\"RAC\"],tilesize,mygrid)\n",
    "tileinfo = tilareaC.tileinfo; numtiles = tilareaC.numtiles\n",
    "tilareaW = TileData(gridvars[\"RAW\"],tileinfo,tilesize,prec,numtiles)\n",
    "tilareaS = TileData(gridvars[\"RAS\"],tileinfo,tilesize,prec,numtiles)\n",
    "tilland3D = TileData(landC,tileinfo,tilesize,prec,numtiles)\n",
    "tilland2D = TileData(landC[:,1],tileinfo,tilesize,prec,numtiles)\n",
    "tillandW = TileData(landW,tileinfo,tilesize,prec,numtiles)\n",
    "tillandS = TileData(landS,tileinfo,tilesize,prec,numtiles)\n",
    "tillatc = TileData(gridvars[\"YC\"],tileinfo,tilesize,prec,numtiles)\n",
    "tillonc = TileData(gridvars[\"XC\"],tileinfo,tilesize,prec,numtiles)\n",
    "tillatw = TileData(gridvars[\"YW\"],tileinfo,tilesize,prec,numtiles)\n",
    "tillonw = TileData(gridvars[\"XW\"],tileinfo,tilesize,prec,numtiles)\n",
    "tillats = TileData(gridvars[\"YS\"],tileinfo,tilesize,prec,numtiles)\n",
    "tillons = TileData(gridvars[\"XS\"],tileinfo,tilesize,prec,numtiles)\n",
    "\n",
    "# NCvar structs outline fields and their metadata to be written to the file\n",
    "loncvar = NCvar(\"lon\",\"degrees_east\",[icvar,jcvar],tillonc,Dict(\"long_name\" => \"longitude\"),NCDatasets)\n",
    "latcvar = NCvar(\"lat\",\"degrees_north\",[icvar,jcvar],tillatc,Dict(\"long_name\" => \"latitude\"),NCDatasets)\n",
    "lonwvar = NCvar(\"lon\",\"degrees_east\",[iwvar,jwvar],tillonw,Dict(\"long_name\" => \"longitude\"),NCDatasets)\n",
    "latwvar = NCvar(\"lat\",\"degrees_north\",[iwvar,jwvar],tillatw,Dict(\"long_name\" => \"latitude\"),NCDatasets)\n",
    "lonsvar = NCvar(\"lon\",\"degrees_east\",[isvar,jsvar],tillons,Dict(\"long_name\" => \"longitude\"),NCDatasets)\n",
    "latsvar = NCvar(\"lat\",\"degrees_north\",[isvar,jsvar],tillats,Dict(\"long_name\" => \"latitude\"),NCDatasets)\n",
    "areacvar = NCvar(\"area\",\"m^2\",[icvar,jcvar],tilareaC,Dict([\"long_name\" => \"grid cell area\", \"standard_name\" => \"cell_area\"]),NCDatasets)\n",
    "areawvar = NCvar(\"area\",\"m^2\",[iwvar,jwvar],tilareaW,Dict([\"long_name\" => \"grid cell area\", \"standard_name\" => \"cell_area\"]),NCDatasets)\n",
    "areasvar = NCvar(\"area\",\"m^2\",[isvar,jsvar],tilareaS,Dict([\"long_name\" => \"grid cell area\", \"standard_name\" => \"cell_area\"]),NCDatasets)\n",
    "land3Dvar = NCvar(\"land\",\"1\",[icvar,jcvar,dep_cvar],tilland3D,Dict([\"long_name\" => \"land mask\", \"standard_name\" => \"land_binary_mask\"]),NCDatasets)\n",
    "land2Dvar = NCvar(\"land\",\"1\",[icvar,jcvar],tilland2D,Dict([\"long_name\" => \"land mask\", \"standard_name\" => \"land_binary_mask\"]),NCDatasets)\n",
    "landwvar = NCvar(\"land\",\"1\",[iwvar,jwvar,dep_cvar],tillandW,Dict([\"long_name\" => \"land mask\", \"standard_name\" => \"land_binary_mask\"]),NCDatasets)\n",
    "landsvar = NCvar(\"land\",\"1\",[isvar,jsvar,dep_cvar],tillandS,Dict([\"long_name\" => \"land mask\", \"standard_name\" => \"land_binary_mask\"]),NCDatasets)\n",
    "thiccvar = NCvar(\"thic\",\"m\",dep_cvar,thicc,Dict(\"standard_name\" => \"cell_thickness\"),NCDatasets)\n",
    "thiclvar = NCvar(\"thic\",\"m\",dep_lvar,thicl,Dict(\"standard_name\" => \"cell_thickness\"),NCDatasets)"
   ]
  },
  {
   "cell_type": "markdown",
   "metadata": {},
   "source": [
    "## 2D Field ETAN"
   ]
  },
  {
   "cell_type": "markdown",
   "metadata": {},
   "source": [
    "Get the filenames for our first dataset and other information about the field."
   ]
  },
  {
   "cell_type": "code",
   "execution_count": 37,
   "metadata": {},
   "outputs": [
    {
     "data": {
      "text/plain": [
       "Dict{String,Any} with 7 entries:\n",
       "  \"mate\"    => \"\"\n",
       "  \"units\"   => \"m\"\n",
       "  \"diagNum\" => 23\n",
       "  \"fldname\" => \"ETAN\"\n",
       "  \"title\"   => \"Surface Height Anomaly\"\n",
       "  \"code\"    => \"SM      M1\"\n",
       "  \"levs\"    => 1"
      ]
     },
     "execution_count": 37,
     "metadata": {},
     "output_type": "execute_result"
    }
   ],
   "source": [
    "dataset = \"state_2d_set1\"\n",
    "fldname = \"ETAN\"\n",
    "fnames = outputdir*'/'.*filter(x -> (occursin(\".data\",x) && occursin(dataset,x)), readdir(outputdir))\n",
    "savepath = joinpath(writedir,fldname)\n",
    "if ~ispath(savepath); mkpath(savepath); end\n",
    "savenamebase = joinpath.(Ref(savepath),fldname)\n",
    "diaginfo = readAvailDiagnosticsLog(availdiagsfile,fldname)"
   ]
  },
  {
   "cell_type": "markdown",
   "metadata": {},
   "source": [
    "Fields to be written to the file are indicated with a dictionary of NCvar structs. Then write to NetCDF files."
   ]
  },
  {
   "cell_type": "code",
   "execution_count": 41,
   "metadata": {},
   "outputs": [],
   "source": [
    "flddata = BinData(fnames,prec,(n1,n2))\n",
    "dims = [icvar, jcvar, timevar]\n",
    "tilfld = TileData(flddata,tilesize,mygrid)\n",
    "coords = join(replace([dim.name for dim in dims],\"i_c\" => \"lon\", \"j_c\" => \"lat\"),\" \")\n",
    "flds = Dict([fldname => NCvar(fldname,diaginfo[\"units\"],dims,tilfld,Dict([\"long_name\" => diaginfo[\"title\"], \"coordinates\" => coords]),NCDatasets),\n",
    "            \"lon\" => loncvar,\n",
    "            \"lat\" => latcvar,\n",
    "            \"area\" => areacvar,\n",
    "            \"land\" => land2Dvar\n",
    "]) \n",
    "\n",
    "writeNetCDFtiles(flds,savenamebase,README)"
   ]
  },
  {
   "cell_type": "markdown",
   "metadata": {},
   "source": [
    "## 3D Field Theta"
   ]
  },
  {
   "cell_type": "code",
   "execution_count": 42,
   "metadata": {},
   "outputs": [],
   "source": [
    "# Get the filenames for our first dataset and other information about the field.\n",
    "dataset = \"state_3d_set1\"\n",
    "fldname = \"THETA\"\n",
    "fnames = outputdir*'/'.*filter(x -> (occursin(\".data\",x) && occursin(dataset,x)), readdir(outputdir))\n",
    "savepath = joinpath(writedir,fldname)\n",
    "if ~ispath(savepath); mkpath(savepath); end\n",
    "savenamebase = joinpath.(Ref(savepath),fldname)\n",
    "diaginfo = readAvailDiagnosticsLog(availdiagsfile,fldname)\n",
    "\n",
    "# Fields to be written to the file are indicated with a dictionary of NCvar structs.\n",
    "flddata = BinData(fnames,prec,(n1,n2,n3))\n",
    "dims = [icvar, jcvar, dep_cvar, timevar]\n",
    "tilfld = TileData(flddata,tilesize,mygrid)\n",
    "coords = join(replace([dim.name for dim in dims],\"i_c\" => \"lon\", \"j_c\" => \"lat\"),\" \")\n",
    "flds = Dict([fldname => NCvar(fldname,diaginfo[\"units\"],dims,tilfld,Dict([\"long_name\" => diaginfo[\"title\"], \"coordinates\" => coords]),NCDatasets),\n",
    "            \"lon\" => loncvar,\n",
    "            \"lat\" => latcvar,\n",
    "            \"area\" => areacvar,\n",
    "            \"land\" => land3Dvar,\n",
    "            \"thic\" => thiccvar\n",
    "])\n",
    "\n",
    "# Write to NetCDF files\n",
    "writeNetCDFtiles(flds,savenamebase,README)"
   ]
  },
  {
   "cell_type": "markdown",
   "metadata": {},
   "source": [
    "## Vector Field UVELMASS"
   ]
  },
  {
   "cell_type": "code",
   "execution_count": 43,
   "metadata": {},
   "outputs": [],
   "source": [
    "# Get the filenames for our first dataset and create BinData struct\n",
    "dataset = \"trsp_3d_set1\"\n",
    "fldname = \"UVELMASS\"\n",
    "fnames = outputdir*'/'.*filter(x -> (occursin(\".data\",x) && occursin(dataset,x)), readdir(outputdir))\n",
    "savepath = joinpath(writedir,fldname)\n",
    "if ~ispath(savepath); mkpath(savepath); end\n",
    "savenamebase = joinpath.(Ref(savepath),fldname)\n",
    "diaginfo = readAvailDiagnosticsLog(availdiagsfile,fldname)\n",
    "\n",
    "# Define field- BinData contains the filenames where the data sits so it's only loaded when needed\n",
    "flddata = BinData(fnames,prec,(n1,n2,n3))\n",
    "dims = [iwvar, jwvar, dep_cvar, timevar]\n",
    "tilfld = TileData(flddata,tilesize,mygrid)\n",
    "coords = join(replace([dim.name for dim in dims],\"i_w\" => \"lon\", \"j_w\" => \"lat\"),\" \")\n",
    "flds = Dict([fldname => NCvar(fldname,diaginfo[\"units\"],dims,tilfld,Dict([\"long_name\" => diaginfo[\"title\"], \"coordinates\" => coords]),NCDatasets),\n",
    "            \"lon\" => lonwvar, \n",
    "            \"lat\" => latwvar,\n",
    "            \"area\" => areawvar,\n",
    "            \"land\" => landwvar,\n",
    "            \"thic\" => thiccvar\n",
    "])\n",
    "\n",
    "writeNetCDFtiles(flds,savenamebase,README)"
   ]
  },
  {
   "cell_type": "markdown",
   "metadata": {},
   "source": [
    "## Vector Field VVELMASS"
   ]
  },
  {
   "cell_type": "code",
   "execution_count": 44,
   "metadata": {},
   "outputs": [
    {
     "ename": "LoadError",
     "evalue": "syntax: missing comma or ) in argument list",
     "output_type": "error",
     "traceback": [
      "syntax: missing comma or ) in argument list",
      ""
     ]
    }
   ],
   "source": [
    "# Get the filenames for our first dataset and create BinData struct\n",
    "dataset = \"trsp_3d_set1\"\n",
    "fldname = \"VVELMASS\"\n",
    "fnames = outputdir*'/'.*filter(x -> (occursin(\".data\",x) && occursin(dataset,x)), readdir(outputdir))\n",
    "savepath = joinpath(writedir,fldname)\n",
    "if ~ispath(savepath); mkpath(savepath); end\n",
    "savenamebase = joinpath.(Ref(savepath),fldname)\n",
    "diaginfo = readAvailDiagnosticsLog(availdiagsfile,fldname)\n",
    "\n",
    "# Define field- BinData contains the filenames where the data sits so it's only loaded when needed\n",
    "flddata = BinData(fnames,prec,(n1,n2,n3))\n",
    "dims = [isvar, jsvar, dep_cvar, timevar]\n",
    "tilfld = TileData(flddata,tilesize,mygrid)\n",
    "coords = join(replace([dim.name for dim in dims],\"i_s\" => \"lon\", \"j_s\" => \"lat\"),\" \")\n",
    "flds = Dict([fldname => NCvar(fldname,diaginfo[\"units\"],dims,tilfld,Dict([\"long_name\" => diaginfo[\"title\"], \"coordinates\" => coords]),NCDatasets),\n",
    "            \"lon\" => lonsvar,\n",
    "            \"lat\" => latsvar,\n",
    "            \"area\" => areasvar,\n",
    "            \"land\" => landsvar,\n",
    "            \"thic\" => thiccvar\n",
    "]\n",
    "\n",
    "writeNetCDFtiles(flds,savenamebase,README)"
   ]
  },
  {
   "cell_type": "markdown",
   "metadata": {},
   "source": [
    "## Vector Field WVELMASS"
   ]
  },
  {
   "cell_type": "code",
   "execution_count": 45,
   "metadata": {},
   "outputs": [
    {
     "ename": "LoadError",
     "evalue": "syntax: missing separator in array expression",
     "output_type": "error",
     "traceback": [
      "syntax: missing separator in array expression",
      ""
     ]
    }
   ],
   "source": [
    "# Get the filenames for our first dataset and create BinData struct\n",
    "dataset = \"trsp_3d_set1\"\n",
    "fldname = \"WVELMASS\"\n",
    "fnames = outputdir*'/'.*filter(x -> (occursin(\".data\",x) && occursin(dataset,x)), readdir(outputdir))\n",
    "savepath = joinpath(writedir,fldname)\n",
    "if ~ispath(savepath); mkpath(savepath); end\n",
    "savenamebase = joinpath.(Ref(savepath),fldname)\n",
    "diaginfo = readAvailDiagnosticsLog(availdiagsfile,fldname)\n",
    "\n",
    "# Define field- BinData contains the filenames where the data sits so it's only loaded when needed\n",
    "flddata = BinData(fnames,prec,(n1,n2,n3))\n",
    "dims = [icvar, jcvar, dep_lvar, timevar]\n",
    "tilfld = TileData(flddata,tilesize,mygrid)\n",
    "coords = join(replace([dim.name for dim in dims],\"i_c\" => \"lon\", \"j_c\" => \"lat\"),\" \")\n",
    "flds = Dict([fldname => NCvar(fldname,diaginfo[\"units\"],dims,tilfld,Dict([\"long_name\" => diaginfo[\"title\"], \"coordinates\" => coords]),NCDatasets),\n",
    "            \"lon\" => loncvar,\n",
    "            \"lat\" => latcvara,\n",
    "            \"area\" => areavar\n",
    "            \"land\" => land3Dvar,\n",
    "            \"thic\" => thiclvar\n",
    "])\n",
    "\n",
    "writeNetCDFtiles(flds,savenamebase,README)"
   ]
  },
  {
   "cell_type": "code",
   "execution_count": null,
   "metadata": {},
   "outputs": [],
   "source": []
  }
 ],
 "metadata": {
  "kernelspec": {
   "display_name": "Julia 1.1.1",
   "language": "julia",
   "name": "julia-1.1"
  },
  "language_info": {
   "file_extension": ".jl",
   "mimetype": "application/julia",
   "name": "julia",
   "version": "1.1.1"
  },
  "toc": {
   "base_numbering": 1,
   "nav_menu": {},
   "number_sections": true,
   "sideBar": true,
   "skip_h1_title": false,
   "title_cell": "Table of Contents",
   "title_sidebar": "Contents",
   "toc_cell": false,
   "toc_position": {},
   "toc_section_display": true,
   "toc_window_display": false
  }
 },
 "nbformat": 4,
 "nbformat_minor": 2
}
